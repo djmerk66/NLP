{
  "nbformat": 4,
  "nbformat_minor": 0,
  "metadata": {
    "colab": {
      "provenance": [],
      "collapsed_sections": [
        "759SG4TyfbUn",
        "Zj-h4drXD-X9",
        "BY6yifxscfrx",
        "k_ewoagic5jc",
        "70StdqAZa9E9"
      ]
    },
    "kernelspec": {
      "name": "python3",
      "display_name": "Python 3"
    },
    "language_info": {
      "name": "python"
    }
  },
  "cells": [
    {
      "cell_type": "markdown",
      "source": [
        "#**Maestría en Inteligencia Artificial Aplicada**\n",
        "##**Curso: Procesamiento de Lenguaje Natural (NLP)**\n",
        "###Tecnológico de Monterrey\n",
        "###Prof Luis Eduardo Falcón Morales\n",
        "\n",
        "## **Adtividad de la Semana 02**\n",
        "###**Introducción al procesamiento de texto.**"
      ],
      "metadata": {
        "id": "759SG4TyfbUn"
      }
    },
    {
      "cell_type": "markdown",
      "source": [
        "En esta actividad deberás utilizar los datos del siguiente archivo que se encuentra en Canvas:\n",
        "\n",
        "MNA_NLP_semana_02_Actividad_datos.txt\n",
        "\n",
        "El archivo contiene comentarios en inglés sobre servicios de comida de la página de Yelp: https://www.yelp.com/ .\n",
        "\n",
        "Son mil comentarios y forman parte del conjunto de datos que se encuentra en el Machine Learning Repository de la UCI, llamado \"Sentiment Labelled Sentences\": https://archive.ics.uci.edu/ml/datasets/Sentiment+Labelled+Sentences#\n"
      ],
      "metadata": {
        "id": "6ue1YAKx3XDo"
      }
    },
    {
      "cell_type": "markdown",
      "source": [
        "#**Parte 1. Cargamos los datos.**   "
      ],
      "metadata": {
        "id": "Zj-h4drXD-X9"
      }
    },
    {
      "cell_type": "markdown",
      "source": [
        "Cargar los datos del archivo indicado y obtener una lista de longitud de 1000 strings/comentarios.\n",
        "\n",
        "Por el momento solamente requerimos las bibliotecas de Numpy y re, para el manejo de los arreglos y de las expresiones regulares en Python.\n",
        "\n",
        "En particular, no necesitarás en esta actividad la biblioteca de Pandas.\n",
        "\n",
        "###**NOTA: En esta actividad no debes importar nada más, con estas dos bibliotecas será *suficiente*.**"
      ],
      "metadata": {
        "id": "BY6yifxscfrx"
      }
    },
    {
      "cell_type": "code",
      "source": [
        "import numpy as np    # importamos Numpy para el manejo de los arreglos.\n",
        "import re             # importamos re para el manejo de las expresiones regulares."
      ],
      "metadata": {
        "id": "OJ26dAfhdFnf"
      },
      "execution_count": 1,
      "outputs": []
    },
    {
      "cell_type": "code",
      "source": [
        "# Ejecuta las siguientes instrucciones para cargar la información del achivo dado:\n",
        "\n",
        "with open('MNA_NLP_semana_02_Actividad_datos.txt',        # puedes actualizar la ruta a tu archivo, en dado caso.\n",
        "          mode='r',     # abrimos el archivo en modo lectura.\n",
        "          ) as f:\n",
        "    docs = f.readlines()    # separamos cada comentario por líneas\n",
        "\n",
        "f.close()  # ya que tenemos la información en la variable docs, cerramos el archivo"
      ],
      "metadata": {
        "id": "QHUmJyjDdGNP"
      },
      "execution_count": 3,
      "outputs": []
    },
    {
      "cell_type": "code",
      "source": [
        "type(docs) == list   # Verifica que tu variable \"docs\" es una lista"
      ],
      "metadata": {
        "id": "L6WzrSrodG-Y",
        "colab": {
          "base_uri": "https://localhost:8080/"
        },
        "outputId": "4cd1732b-4a33-4d90-b9ed-e759b34970c5"
      },
      "execution_count": 4,
      "outputs": [
        {
          "output_type": "execute_result",
          "data": {
            "text/plain": [
              "True"
            ]
          },
          "metadata": {},
          "execution_count": 4
        }
      ]
    },
    {
      "cell_type": "code",
      "source": [
        "len(docs)==1000  # verifica que la longitud de \"docs\" es de mil comentarios."
      ],
      "metadata": {
        "id": "QIK1u9WS2FtS",
        "colab": {
          "base_uri": "https://localhost:8080/"
        },
        "outputId": "082938b0-f846-4f71-e705-feb171e721aa"
      },
      "execution_count": 5,
      "outputs": [
        {
          "output_type": "execute_result",
          "data": {
            "text/plain": [
              "True"
            ]
          },
          "metadata": {},
          "execution_count": 5
        }
      ]
    },
    {
      "cell_type": "code",
      "source": [
        "docs[0:10]     # observa algunos de los primeros comentarios"
      ],
      "metadata": {
        "id": "9AMLIfQvJqNZ",
        "colab": {
          "base_uri": "https://localhost:8080/"
        },
        "outputId": "759553ee-06af-4dda-e867-a7d7513ba042"
      },
      "execution_count": 6,
      "outputs": [
        {
          "output_type": "execute_result",
          "data": {
            "text/plain": [
              "['Wow... Loved this place.\\n',\n",
              " 'Crust is not good.\\n',\n",
              " 'Not tasty and the texture was just nasty.\\n',\n",
              " 'Stopped by during the late May bank holiday off Rick Steve recommendation and loved it.\\n',\n",
              " 'The selection on the menu was great and so were the prices.\\n',\n",
              " 'Now I am getting angry and I want my damn pho.\\n',\n",
              " \"Honeslty it didn't taste THAT fresh.)\\n\",\n",
              " 'The potatoes were like rubber and you could tell they had been made up ahead of time being kept under a warmer.\\n',\n",
              " 'The fries were great too.\\n',\n",
              " 'A great touch.\\n']"
            ]
          },
          "metadata": {},
          "execution_count": 6
        }
      ]
    },
    {
      "cell_type": "markdown",
      "source": [
        "#**Parte 2: sección de preguntas (regex).**   \n"
      ],
      "metadata": {
        "id": "k_ewoagic5jc"
      }
    },
    {
      "cell_type": "markdown",
      "source": [
        "##**Instrucciones:**\n",
        "\n",
        "###**A continuación deberás contestar cada una de las preguntas que te piden usando expresiones regulares (regex).**\n",
        "\n",
        "###**Por el momento no hay restricción en cuanto al número de líneas de código que agregues, pero trata de incluir las mínimas posibles.**"
      ],
      "metadata": {
        "id": "X-eMJa3DFCIV"
      }
    },
    {
      "cell_type": "markdown",
      "source": [
        "*   **Pregunta 1.**\n",
        "\n",
        "Busca y elimina todos los saltos de línea '\\n' que se encuentran al final de cada comentario.\n",
        "\n",
        "Una vez finalizado, imprime los primeros 10 comentarios del resultado obtenido.\n"
      ],
      "metadata": {
        "id": "78nJMemzn5a5"
      }
    },
    {
      "cell_type": "code",
      "source": [
        "temp = docs"
      ],
      "metadata": {
        "id": "kZ3fUXzdSRJL"
      },
      "execution_count": 7,
      "outputs": []
    },
    {
      "cell_type": "code",
      "source": [
        "temp[0:10]"
      ],
      "metadata": {
        "colab": {
          "base_uri": "https://localhost:8080/"
        },
        "id": "h0X9g46iVFRA",
        "outputId": "12a1d584-12b7-4a4a-8199-60acefe8e960"
      },
      "execution_count": null,
      "outputs": [
        {
          "output_type": "execute_result",
          "data": {
            "text/plain": [
              "['Wow... Loved this place.\\n',\n",
              " 'Crust is not good.\\n',\n",
              " 'Not tasty and the texture was just nasty.\\n',\n",
              " 'Stopped by during the late May bank holiday off Rick Steve recommendation and loved it.\\n',\n",
              " 'The selection on the menu was great and so were the prices.\\n',\n",
              " 'Now I am getting angry and I want my damn pho.\\n',\n",
              " \"Honeslty it didn't taste THAT fresh.)\\n\",\n",
              " 'The potatoes were like rubber and you could tell they had been made up ahead of time being kept under a warmer.\\n',\n",
              " 'The fries were great too.\\n',\n",
              " 'A great touch.\\n']"
            ]
          },
          "metadata": {},
          "execution_count": 68
        }
      ]
    },
    {
      "cell_type": "code",
      "source": [
        "result = []\n",
        "\n",
        "for line in temp:\n",
        "  result.append(re.sub(r\"(\\n)\",\"\", line))"
      ],
      "metadata": {
        "id": "j-0qeh2Jn8l1"
      },
      "execution_count": null,
      "outputs": []
    },
    {
      "cell_type": "code",
      "source": [
        "result[0:10]"
      ],
      "metadata": {
        "colab": {
          "base_uri": "https://localhost:8080/"
        },
        "id": "BrW1wD6cT9fr",
        "outputId": "fb91b86f-3215-4ce6-9a7a-ed14f46d5bea"
      },
      "execution_count": null,
      "outputs": [
        {
          "output_type": "execute_result",
          "data": {
            "text/plain": [
              "['Wow... Loved this place.',\n",
              " 'Crust is not good.',\n",
              " 'Not tasty and the texture was just nasty.',\n",
              " 'Stopped by during the late May bank holiday off Rick Steve recommendation and loved it.',\n",
              " 'The selection on the menu was great and so were the prices.',\n",
              " 'Now I am getting angry and I want my damn pho.',\n",
              " \"Honeslty it didn't taste THAT fresh.)\",\n",
              " 'The potatoes were like rubber and you could tell they had been made up ahead of time being kept under a warmer.',\n",
              " 'The fries were great too.',\n",
              " 'A great touch.']"
            ]
          },
          "metadata": {},
          "execution_count": 74
        }
      ]
    },
    {
      "cell_type": "markdown",
      "source": [
        "*   **Pregunta 2.**  \n",
        "\n",
        "Busca e imprime todas las palabras que terminan con dos o más signos de admiración seguidos, por ejemplo \"!!!\".\n",
        "\n",
        "Debes imprimir tanto la palabra como la totalidad de signos de admiración que le siguen.\n",
        "\n",
        "Indica cuántos resultados obtuviste.\n",
        "\n"
      ],
      "metadata": {
        "id": "VWeKQC93ctEo"
      }
    },
    {
      "cell_type": "code",
      "source": [
        "result2 = []\n",
        "\n",
        "for line in temp:\n",
        "  check = re.findall(r\"(\\w+)!\", line)\n",
        "  marks = re.findall(r\"!\", line)\n",
        "  if(check):\n",
        "    result2.append(check+marks)"
      ],
      "metadata": {
        "id": "0p3kMXfddICc"
      },
      "execution_count": null,
      "outputs": []
    },
    {
      "cell_type": "code",
      "source": [
        "result2"
      ],
      "metadata": {
        "id": "SPVM1MCWdH6Z",
        "colab": {
          "base_uri": "https://localhost:8080/"
        },
        "outputId": "8f82ad76-f9f3-4b16-8106-bb87a3f3af7c"
      },
      "execution_count": null,
      "outputs": [
        {
          "output_type": "execute_result",
          "data": {
            "text/plain": [
              "[['mmmm', '!'],\n",
              " ['Blah', '!'],\n",
              " ['blow', '!'],\n",
              " ['delight', '!'],\n",
              " ['Firehouse', '!', '!', '!', '!', '!'],\n",
              " ['good', '!'],\n",
              " ['huge', '!'],\n",
              " ['APPETIZERS', '!', '!', '!'],\n",
              " ['Gringos', '!'],\n",
              " ['it', '!'],\n",
              " ['amazing', '!', '!', '!'],\n",
              " ['for', '!'],\n",
              " ['delicious', '!'],\n",
              " ['AGAIN', '!'],\n",
              " ['buffet', '!', '!', '!'],\n",
              " ['lady', '!'],\n",
              " ['again', '!'],\n",
              " ['quickly', '!'],\n",
              " ['go', '!'],\n",
              " ['afternoon', '!'],\n",
              " ['deal', '!'],\n",
              " ['good', '!', '!'],\n",
              " ['gross', '!'],\n",
              " ['BITCHES', '!'],\n",
              " ['excellent', '!'],\n",
              " ['it', '!', '!', '!', '!'],\n",
              " ['here', '!'],\n",
              " ['cost', '!'],\n",
              " ['DELICIOUS', '!', '!'],\n",
              " ['lovers', '!'],\n",
              " ['rudely', '!'],\n",
              " ['food', '!'],\n",
              " ['Pho', '!'],\n",
              " ['serivce', '!'],\n",
              " ['Tasty', '!'],\n",
              " ['though', '!'],\n",
              " ['see', '!'],\n",
              " ['BARGAIN', '!'],\n",
              " ['amazing', '!', '!'],\n",
              " ['flavor', '!'],\n",
              " ['boot', '!'],\n",
              " ['ago', '!'],\n",
              " ['world', '!'],\n",
              " ['FLAVOR', '!'],\n",
              " ['here', '!'],\n",
              " ['Salads', '!'],\n",
              " ['amazing', '!'],\n",
              " ['did', '!'],\n",
              " ['place', '!'],\n",
              " ['check', '!'],\n",
              " ['me', '!'],\n",
              " ['good', '!'],\n",
              " ['food', '!'],\n",
              " ['house', '!'],\n",
              " ['shawarrrrrrma', '!', '!', '!', '!', '!', '!'],\n",
              " ['UNREAL', '!'],\n",
              " ['yucky', '!', '!', '!'],\n",
              " ['delicioso', '!'],\n",
              " ['Tucson', '!'],\n",
              " ['steak', '!', '!', '!', '!', '!'],\n",
              " ['app', '!'],\n",
              " ['terrible', '!'],\n",
              " ['delicious', '!', '!', '!'],\n",
              " ['delicious', '!'],\n",
              " ['life', '!'],\n",
              " ['it', '!'],\n",
              " ['far', '!', '!'],\n",
              " ['kiddos', '!'],\n",
              " ['screwed', '!'],\n",
              " ['stuffed', '!'],\n",
              " ['website', '!'],\n",
              " ['was', '!'],\n",
              " ['complaints', '!'],\n",
              " ['biscuits', '!', '!', '!'],\n",
              " ['delicious', '!'],\n",
              " ['winner', '!'],\n",
              " ['too', '!'],\n",
              " ['though', '!'],\n",
              " ['it', '!'],\n",
              " ['back', '!'],\n",
              " ['decide', '!'],\n",
              " ['delicious', '!'],\n",
              " ['delicious', '!'],\n",
              " ['service', '!'],\n",
              " ['disappointed', '!'],\n",
              " ['had', '!'],\n",
              " ['also', '!'],\n",
              " ['NOW', '!'],\n",
              " ['tasty', '!'],\n",
              " ['ever', '!'],\n",
              " ['pizzas', '!'],\n",
              " ['back', '!'],\n",
              " ['place', '!'],\n",
              " ['this', '!'],\n",
              " ['here', '!'],\n",
              " ['ESTABLISHMENT', '!'],\n",
              " ['delicious', '!'],\n",
              " ['time', '!'],\n",
              " ['anyone', '!'],\n",
              " ['delicious', '!'],\n",
              " ['better', '!'],\n",
              " ['dry', '!', '!'],\n",
              " ['recommended', '!'],\n",
              " ['NASTY', '!'],\n",
              " ['ever', '!'],\n",
              " ['Phoenix', '!'],\n",
              " ['Philadelphia', '!'],\n",
              " ['disappointed', '!'],\n",
              " ['one', '!', '!'],\n",
              " ['visit', '!'],\n",
              " ['disappointing', '!', '!', '!'],\n",
              " ['baby', '!'],\n",
              " ['good', '!'],\n",
              " ['here', '!'],\n",
              " ['Experience', '!'],\n",
              " ['soon', '!'],\n",
              " ['restaurant', '!'],\n",
              " ['eggplant', '!'],\n",
              " ['MGM', '!'],\n",
              " ['great', '!'],\n",
              " ['cheeseburger', '!'],\n",
              " ['had', '!'],\n",
              " ['back', '!'],\n",
              " ['awesome', '!', '!'],\n",
              " ['it', '!'],\n",
              " ['terrible', '!', '!'],\n",
              " ['Up', '!', '!'],\n",
              " ['dough', '!'],\n",
              " ['service', '!'],\n",
              " ['FLY', '!', '!', '!', '!', '!', '!', '!', '!'],\n",
              " ['back', '!'],\n",
              " ['rapidly', '!'],\n",
              " ['FANTASTIC', '!'],\n",
              " ['again', '!'],\n",
              " ['eat', '!'],\n",
              " ['stale', '!'],\n",
              " ['here', '!', '!', '!'],\n",
              " ['Stars', '!'],\n",
              " ['amazing', '!'],\n",
              " ['HAVE', '!'],\n",
              " ['great',\n",
              "  '!',\n",
              "  '!',\n",
              "  '!',\n",
              "  '!',\n",
              "  '!',\n",
              "  '!',\n",
              "  '!',\n",
              "  '!',\n",
              "  '!',\n",
              "  '!',\n",
              "  '!',\n",
              "  '!',\n",
              "  '!',\n",
              "  '!'],\n",
              " ['surprise', '!'],\n",
              " ['place', '!'],\n",
              " ['OVERPRICED', '!'],\n",
              " ['packed', '!', '!'],\n",
              " ['here', '!'],\n",
              " ['since', '!'],\n",
              " ['were', '!'],\n",
              " ['otherwise', '!', '!'],\n",
              " ['lot', '!'],\n",
              " ['dude', '!'],\n",
              " ['patron', '!'],\n",
              " ['people', '!'],\n",
              " ['amazing',\n",
              "  '!',\n",
              "  '!',\n",
              "  '!',\n",
              "  '!',\n",
              "  '!',\n",
              "  '!',\n",
              "  '!',\n",
              "  '!',\n",
              "  '!',\n",
              "  '!',\n",
              "  '!',\n",
              "  '!',\n",
              "  '!',\n",
              "  '!',\n",
              "  '!',\n",
              "  '!',\n",
              "  '!',\n",
              "  '!',\n",
              "  '!'],\n",
              " ['understand', '!'],\n",
              " ['no', '!'],\n",
              " ['disgusting', '!'],\n",
              " ['one', '!'],\n",
              " ['style', '!', '!'],\n",
              " ['disappointed', '!', '!'],\n",
              " ['disappointment', '!']]"
            ]
          },
          "metadata": {},
          "execution_count": 156
        }
      ]
    },
    {
      "cell_type": "markdown",
      "source": [
        "*   **Pregunta 3.**  \n",
        "\n",
        "Busca e imprime todas las palabras que están escritas totalmente en mayúsculas. Cada coincidencia debe ser una sola palabra.\n",
        "\n",
        "Indica cuántas palabras encontraste.\n",
        "\n"
      ],
      "metadata": {
        "id": "-s3okBqL96TT"
      }
    },
    {
      "cell_type": "code",
      "source": [
        "result3 = []\n",
        "\n",
        "for line in temp:\n",
        "  check = re.findall(r\"\\b[A-Z]+\\b\", line)\n",
        "  if(check):\n",
        "    result3.append(check)\n",
        "\n",
        "print(\"Palabras en Mayúsculas encontradaS:\",len(result3))"
      ],
      "metadata": {
        "id": "yKHJkZKo_nW5",
        "colab": {
          "base_uri": "https://localhost:8080/"
        },
        "outputId": "020a0048-1abb-47b7-85a3-18a368cb3fad"
      },
      "execution_count": null,
      "outputs": [
        {
          "output_type": "stream",
          "name": "stdout",
          "text": [
            "Palabras en Mayúsculas encontradaS: 350\n"
          ]
        }
      ]
    },
    {
      "cell_type": "code",
      "source": [
        "result3"
      ],
      "metadata": {
        "id": "L3q08aq69sNn",
        "colab": {
          "base_uri": "https://localhost:8080/"
        },
        "outputId": "3bc64ff8-f971-4a09-e3c0-7da310590867"
      },
      "execution_count": null,
      "outputs": [
        {
          "output_type": "execute_result",
          "data": {
            "text/plain": [
              "[['I', 'I'],\n",
              " ['THAT'],\n",
              " ['A'],\n",
              " ['I'],\n",
              " ['I'],\n",
              " ['I', 'I'],\n",
              " ['I'],\n",
              " ['I'],\n",
              " ['I', 'I'],\n",
              " ['I'],\n",
              " ['I'],\n",
              " ['I'],\n",
              " ['I'],\n",
              " ['APPETIZERS'],\n",
              " ['A'],\n",
              " ['I', 'I', 'I'],\n",
              " ['I'],\n",
              " ['I'],\n",
              " ['I'],\n",
              " ['I'],\n",
              " ['WILL', 'NEVER', 'EVER', 'STEP', 'FORWARD', 'IN', 'IT', 'AGAIN'],\n",
              " ['I', 'LOVED'],\n",
              " ['I'],\n",
              " ['AND'],\n",
              " ['REAL'],\n",
              " ['I'],\n",
              " ['I'],\n",
              " ['I', 'I'],\n",
              " ['BITCHES'],\n",
              " ['I', 'I'],\n",
              " ['I'],\n",
              " ['I'],\n",
              " ['NYC'],\n",
              " ['I'],\n",
              " ['I'],\n",
              " ['I'],\n",
              " ['I'],\n",
              " ['I'],\n",
              " ['I', 'I'],\n",
              " ['STALE'],\n",
              " ['I'],\n",
              " ['I'],\n",
              " ['DELICIOUS'],\n",
              " ['I'],\n",
              " ['I', 'I'],\n",
              " ['I'],\n",
              " ['I'],\n",
              " ['I'],\n",
              " ['I'],\n",
              " ['I'],\n",
              " ['I'],\n",
              " ['I'],\n",
              " ['I'],\n",
              " ['I', 'I'],\n",
              " ['I', 'I'],\n",
              " ['WORST', 'EXPERIENCE', 'EVER'],\n",
              " ['I'],\n",
              " ['ALL'],\n",
              " ['I'],\n",
              " ['BARGAIN'],\n",
              " ['I'],\n",
              " ['TV'],\n",
              " ['NONE'],\n",
              " ['I', 'M'],\n",
              " ['FREEZING'],\n",
              " ['AYCE', 'I'],\n",
              " ['I', 'I'],\n",
              " ['I', 'I', 'I'],\n",
              " ['I'],\n",
              " ['I'],\n",
              " ['I'],\n",
              " ['I'],\n",
              " ['I'],\n",
              " ['I'],\n",
              " ['I'],\n",
              " ['FLAVOR'],\n",
              " ['I'],\n",
              " ['I', 'I'],\n",
              " ['I'],\n",
              " ['I'],\n",
              " ['I'],\n",
              " ['I'],\n",
              " ['I', 'I'],\n",
              " ['I', 'I', 'I'],\n",
              " ['I'],\n",
              " ['I', 'I'],\n",
              " ['I'],\n",
              " ['I'],\n",
              " ['I'],\n",
              " ['NEVER'],\n",
              " ['I', 'I'],\n",
              " ['I'],\n",
              " ['I'],\n",
              " ['BBQ'],\n",
              " ['I'],\n",
              " ['A', 'I'],\n",
              " ['UNREAL'],\n",
              " ['I', 'I'],\n",
              " ['I'],\n",
              " ['I'],\n",
              " ['I'],\n",
              " ['I'],\n",
              " ['OMG'],\n",
              " ['I'],\n",
              " ['BETTER'],\n",
              " ['I'],\n",
              " ['I'],\n",
              " ['BLAND'],\n",
              " ['I'],\n",
              " ['I'],\n",
              " ['I'],\n",
              " ['I'],\n",
              " ['I'],\n",
              " ['I'],\n",
              " ['I'],\n",
              " ['RUDE', 'INCONSIDERATE', 'MANAGEMENT'],\n",
              " ['I'],\n",
              " ['I'],\n",
              " ['WILL',\n",
              "  'NEVER',\n",
              "  'EVER',\n",
              "  'GO',\n",
              "  'BACK',\n",
              "  'AND',\n",
              "  'HAVE',\n",
              "  'TOLD',\n",
              "  'MANY',\n",
              "  'PEOPLE',\n",
              "  'WHAT',\n",
              "  'HAD',\n",
              "  'HAPPENED'],\n",
              " ['I'],\n",
              " ['I', 'I'],\n",
              " ['I'],\n",
              " ['I'],\n",
              " ['I'],\n",
              " ['I'],\n",
              " ['I', 'I'],\n",
              " ['I', 'I'],\n",
              " ['I'],\n",
              " ['I'],\n",
              " ['TOTAL', 'WASTE', 'OF', 'TIME'],\n",
              " ['I'],\n",
              " ['I'],\n",
              " ['I'],\n",
              " ['I'],\n",
              " ['I'],\n",
              " ['I'],\n",
              " ['I', 'I'],\n",
              " ['I'],\n",
              " ['I'],\n",
              " ['I'],\n",
              " ['I'],\n",
              " ['I'],\n",
              " ['I'],\n",
              " ['I'],\n",
              " ['FS'],\n",
              " ['I'],\n",
              " ['I', 'I'],\n",
              " ['I'],\n",
              " ['I'],\n",
              " ['I'],\n",
              " ['I'],\n",
              " ['I'],\n",
              " ['I'],\n",
              " ['AZ'],\n",
              " ['I', 'I'],\n",
              " ['I'],\n",
              " ['I', 'LOVED'],\n",
              " ['I'],\n",
              " ['I'],\n",
              " ['I'],\n",
              " ['I', 'I'],\n",
              " ['I'],\n",
              " ['CONCLUSION'],\n",
              " ['I'],\n",
              " ['I'],\n",
              " ['I'],\n",
              " ['I'],\n",
              " ['I', 'I'],\n",
              " ['BEST'],\n",
              " ['I'],\n",
              " ['GO', 'NOW'],\n",
              " ['A'],\n",
              " ['I'],\n",
              " ['I'],\n",
              " ['GC'],\n",
              " ['I'],\n",
              " ['I'],\n",
              " ['I', 'I'],\n",
              " ['I', 'I'],\n",
              " ['I'],\n",
              " ['I'],\n",
              " ['I'],\n",
              " ['I'],\n",
              " ['I'],\n",
              " ['AVOID', 'THIS', 'ESTABLISHMENT'],\n",
              " ['I'],\n",
              " ['I'],\n",
              " ['I'],\n",
              " ['A'],\n",
              " ['I'],\n",
              " ['I'],\n",
              " ['AN', 'HOUR'],\n",
              " ['I'],\n",
              " ['I'],\n",
              " ['I'],\n",
              " ['I', 'I'],\n",
              " ['I', 'I'],\n",
              " ['I'],\n",
              " ['NASTY'],\n",
              " ['OMG', 'I', 'I'],\n",
              " ['NO'],\n",
              " ['I'],\n",
              " ['I', 'I', 'BEST'],\n",
              " ['I'],\n",
              " ['I'],\n",
              " ['I'],\n",
              " ['I'],\n",
              " ['THE', 'OWNERS', 'REALLY', 'REALLY'],\n",
              " ['I'],\n",
              " ['I'],\n",
              " ['I'],\n",
              " ['I'],\n",
              " ['I'],\n",
              " ['I'],\n",
              " ['I', 'I'],\n",
              " ['I'],\n",
              " ['I'],\n",
              " ['I'],\n",
              " ['I'],\n",
              " ['PERFECT'],\n",
              " ['SCREAMS', 'LEGIT'],\n",
              " ['I'],\n",
              " ['MGM'],\n",
              " ['I'],\n",
              " ['I'],\n",
              " ['I'],\n",
              " ['A'],\n",
              " ['I'],\n",
              " ['I'],\n",
              " ['I'],\n",
              " ['I', 'I'],\n",
              " ['I'],\n",
              " ['I'],\n",
              " ['I'],\n",
              " ['I'],\n",
              " ['I'],\n",
              " ['I'],\n",
              " ['I'],\n",
              " ['BEST'],\n",
              " ['I'],\n",
              " ['I'],\n",
              " ['T'],\n",
              " ['A', 'FLY', 'A', 'FLY'],\n",
              " ['I'],\n",
              " ['I'],\n",
              " ['I'],\n",
              " ['I'],\n",
              " ['I'],\n",
              " ['I'],\n",
              " ['I', 'I'],\n",
              " ['I'],\n",
              " ['I'],\n",
              " ['I'],\n",
              " ['I'],\n",
              " ['FANTASTIC'],\n",
              " ['I'],\n",
              " ['I', 'I'],\n",
              " ['I'],\n",
              " ['GREAT'],\n",
              " ['OK'],\n",
              " ['I'],\n",
              " ['I'],\n",
              " ['WAY'],\n",
              " ['I'],\n",
              " ['I'],\n",
              " ['MUST', 'HAVE'],\n",
              " ['I'],\n",
              " ['I'],\n",
              " ['I'],\n",
              " ['I'],\n",
              " ['I'],\n",
              " ['I'],\n",
              " ['OK'],\n",
              " ['I', 'I', 'I'],\n",
              " ['I'],\n",
              " ['OVERPRICED'],\n",
              " ['I'],\n",
              " ['I'],\n",
              " ['I'],\n",
              " ['I'],\n",
              " ['I'],\n",
              " ['I', 'I'],\n",
              " ['I', 'I'],\n",
              " ['I', 'I'],\n",
              " ['I'],\n",
              " ['I', 'I'],\n",
              " ['I'],\n",
              " ['I'],\n",
              " ['I'],\n",
              " ['I'],\n",
              " ['I'],\n",
              " ['I'],\n",
              " ['I'],\n",
              " ['I'],\n",
              " ['I'],\n",
              " ['I'],\n",
              " ['I', 'BARE', 'HANDS'],\n",
              " ['I'],\n",
              " ['I'],\n",
              " ['I', 'I'],\n",
              " ['I'],\n",
              " ['I'],\n",
              " ['I'],\n",
              " ['I'],\n",
              " ['I', 'I'],\n",
              " ['I'],\n",
              " ['I'],\n",
              " ['I'],\n",
              " ['I'],\n",
              " ['I'],\n",
              " ['WEAK'],\n",
              " ['I'],\n",
              " ['I'],\n",
              " ['I'],\n",
              " ['I'],\n",
              " ['I', 'I'],\n",
              " ['I'],\n",
              " ['I'],\n",
              " ['SHOULD'],\n",
              " ['I'],\n",
              " ['I', 'I'],\n",
              " ['RI'],\n",
              " ['I'],\n",
              " ['I'],\n",
              " ['I'],\n",
              " ['I'],\n",
              " ['I'],\n",
              " ['I'],\n",
              " ['I', 'VERY'],\n",
              " ['I', 'I'],\n",
              " ['I'],\n",
              " ['NOT'],\n",
              " ['I'],\n",
              " ['I'],\n",
              " ['I', 'I'],\n",
              " ['I', 'I', 'I'],\n",
              " ['I', 'I'],\n",
              " ['I'],\n",
              " ['I'],\n",
              " ['I', 'I'],\n",
              " ['I'],\n",
              " ['I'],\n",
              " ['I', 'I'],\n",
              " ['I'],\n",
              " ['A'],\n",
              " ['I', 'I'],\n",
              " ['I'],\n",
              " ['I'],\n",
              " ['I'],\n",
              " ['I']]"
            ]
          },
          "metadata": {},
          "execution_count": 177
        }
      ]
    },
    {
      "cell_type": "markdown",
      "source": [
        "*   **Pregunta 4.**  \n",
        "\n",
        "Busca e imprime los comentarios en donde todos los caracteres alfabéticos (letras) están en mayúsculas.\n",
        "\n",
        "Cada coincidencia encontrada debe ser todo el comentario/enunciado.\n",
        "\n",
        "Indica cuántos resultados obtuviste.\n"
      ],
      "metadata": {
        "id": "GX8eYyDoMZma"
      }
    },
    {
      "cell_type": "code",
      "source": [
        "result4 = []\n",
        "\n",
        "for line in temp:\n",
        "  check = re.search(r\"^[A-Z\\s]*[^a-z]+\\W*$\", line)\n",
        "  if(check):\n",
        "    result4.append(check.group())\n",
        "\n",
        "print(\"Resultados encontrados:\",len(result4))"
      ],
      "metadata": {
        "id": "K8VuZxvTMYj6",
        "colab": {
          "base_uri": "https://localhost:8080/"
        },
        "outputId": "80c8fc40-29f5-4a1c-d26b-e93e23e7f7b3"
      },
      "execution_count": 58,
      "outputs": [
        {
          "output_type": "stream",
          "name": "stdout",
          "text": [
            "Resultados encontrados: 5\n"
          ]
        }
      ]
    },
    {
      "cell_type": "code",
      "source": [
        "result4"
      ],
      "metadata": {
        "id": "PmKgX7sCMcDx",
        "colab": {
          "base_uri": "https://localhost:8080/"
        },
        "outputId": "6b4af966-6550-4e17-c890-0d7564579132"
      },
      "execution_count": 59,
      "outputs": [
        {
          "output_type": "execute_result",
          "data": {
            "text/plain": [
              "['DELICIOUS!!\\n',\n",
              " 'RUDE & INCONSIDERATE MANAGEMENT.\\n',\n",
              " 'WILL NEVER EVER GO BACK AND HAVE TOLD MANY PEOPLE WHAT HAD HAPPENED.\\n',\n",
              " 'TOTAL WASTE OF TIME.\\n',\n",
              " 'AVOID THIS ESTABLISHMENT!\\n']"
            ]
          },
          "metadata": {},
          "execution_count": 59
        }
      ]
    },
    {
      "cell_type": "markdown",
      "source": [
        "*   **Pregunta 5.**  \n",
        "\n",
        "Busca e imprime todas las palabras que tengan una vocal acentuada, del tipo á, é, í, ó, ú.\n",
        "\n",
        "Indica cuántos resultados obtuviste."
      ],
      "metadata": {
        "id": "a1i6qv7-McmU"
      }
    },
    {
      "cell_type": "code",
      "source": [
        "result5 = []\n",
        "\n",
        "for line in temp:\n",
        "  check = re.findall(r\"\\w*[áéíóú]+\\w*\", line)\n",
        "  if(check):\n",
        "    result5.append(check)\n",
        "\n",
        "print(\"Palabras encontradas:\",len(result5))"
      ],
      "metadata": {
        "id": "nZZ5zKUOMeGD",
        "colab": {
          "base_uri": "https://localhost:8080/"
        },
        "outputId": "974604d7-38cd-4870-8ab9-16122344550c"
      },
      "execution_count": 56,
      "outputs": [
        {
          "output_type": "stream",
          "name": "stdout",
          "text": [
            "Palabras encontradas: 3\n"
          ]
        }
      ]
    },
    {
      "cell_type": "code",
      "source": [
        "result5"
      ],
      "metadata": {
        "id": "l1mFvUEZMe8s",
        "colab": {
          "base_uri": "https://localhost:8080/"
        },
        "outputId": "9ffcc659-3115-4238-ad48-229a51c95a3c"
      },
      "execution_count": 57,
      "outputs": [
        {
          "output_type": "execute_result",
          "data": {
            "text/plain": [
              "[['fiancé'], ['Café'], ['puréed']]"
            ]
          },
          "metadata": {},
          "execution_count": 57
        }
      ]
    },
    {
      "cell_type": "markdown",
      "source": [
        "*   **Pregunta 6.**  \n",
        "\n",
        "Busca e imprime todas las cantidades numéricas monetarias, enteras o con decimales, que inician con el símbolo $\\$$.\n",
        "\n",
        "Indica cuántos resultados obtuviste."
      ],
      "metadata": {
        "id": "ZmPiAI82Mfb3"
      }
    },
    {
      "cell_type": "code",
      "source": [
        "result6 = []\n",
        "\n",
        "for line in temp:\n",
        "  check = re.findall(r\"[$][\\d.]+\\b\", line)\n",
        "  if(check):\n",
        "    result6.append(check)\n",
        "\n",
        "print(\"Palabras encontradas:\",len(result6))"
      ],
      "metadata": {
        "id": "6vhe9-Y-MhL9",
        "colab": {
          "base_uri": "https://localhost:8080/"
        },
        "outputId": "91cc6cd9-1c0d-4c7f-bed5-67ba06b12a94"
      },
      "execution_count": 60,
      "outputs": [
        {
          "output_type": "stream",
          "name": "stdout",
          "text": [
            "Palabras encontradas: 8\n"
          ]
        }
      ]
    },
    {
      "cell_type": "code",
      "source": [
        "result6"
      ],
      "metadata": {
        "id": "_t0a5xWDMhQ5",
        "colab": {
          "base_uri": "https://localhost:8080/"
        },
        "outputId": "5d1bab37-a8c5-41f3-ddd2-b542e2b6089a"
      },
      "execution_count": 61,
      "outputs": [
        {
          "output_type": "execute_result",
          "data": {
            "text/plain": [
              "[['$20'], ['$4.00'], ['$17'], ['$3'], ['$35'], ['$7.85'], ['$12'], ['$11.99']]"
            ]
          },
          "metadata": {},
          "execution_count": 61
        }
      ]
    },
    {
      "cell_type": "markdown",
      "source": [
        "*   **Pregunta 7.**  \n",
        "\n",
        "Busca e imprime todas las palabras que sean variantes de la palabra \"love\", sin importar si incluyen mayúsculas o minúsculas, o la manera en que esté conjugada o alguna otra variación que se haga con dicha palabra.\n",
        "\n",
        "Indica cuántos resultados obtuviste."
      ],
      "metadata": {
        "id": "2j-HpvhwMhq2"
      }
    },
    {
      "cell_type": "code",
      "source": [
        "result7 = []\n",
        "\n",
        "for line in temp:\n",
        "  check = re.findall(r\"(?i)love\\w*\", line)\n",
        "  if(check):\n",
        "    result7.append(check)\n",
        "\n",
        "print(\"Palabras encontradas:\",len(result7))"
      ],
      "metadata": {
        "id": "kqqyRChVMjol",
        "colab": {
          "base_uri": "https://localhost:8080/"
        },
        "outputId": "698a94ff-311c-4f7d-9db2-1542bcb5530e"
      },
      "execution_count": 63,
      "outputs": [
        {
          "output_type": "stream",
          "name": "stdout",
          "text": [
            "Palabras encontradas: 36\n"
          ]
        }
      ]
    },
    {
      "cell_type": "code",
      "source": [
        "result7"
      ],
      "metadata": {
        "id": "UXd0VQluMj_x",
        "colab": {
          "base_uri": "https://localhost:8080/"
        },
        "outputId": "69013992-b238-4e65-dd2e-d63f32fa5f82"
      },
      "execution_count": 64,
      "outputs": [
        {
          "output_type": "execute_result",
          "data": {
            "text/plain": [
              "[['Loved'],\n",
              " ['loved'],\n",
              " ['Loved'],\n",
              " ['love'],\n",
              " ['loves'],\n",
              " ['LOVED'],\n",
              " ['lovers'],\n",
              " ['love'],\n",
              " ['lovers'],\n",
              " ['Love'],\n",
              " ['loved'],\n",
              " ['loved'],\n",
              " ['love'],\n",
              " ['love'],\n",
              " ['love'],\n",
              " ['loved'],\n",
              " ['love'],\n",
              " ['loved'],\n",
              " ['Love'],\n",
              " ['LOVED'],\n",
              " ['love'],\n",
              " ['lovely'],\n",
              " ['love'],\n",
              " ['lovely'],\n",
              " ['love'],\n",
              " ['lover'],\n",
              " ['loved'],\n",
              " ['love'],\n",
              " ['love'],\n",
              " ['love'],\n",
              " ['love'],\n",
              " ['loves'],\n",
              " ['love'],\n",
              " ['love'],\n",
              " ['love'],\n",
              " ['love']]"
            ]
          },
          "metadata": {},
          "execution_count": 64
        }
      ]
    },
    {
      "cell_type": "markdown",
      "source": [
        "*   **Pregunta 8.**  \n",
        "\n",
        "Busca e imprime todas las palabras, variantes de \"so\" y \"good\", que tengan dos o más \"o\" en \"so\" y 3 o más \"o\" en good.\n",
        "\n",
        "Indica cuántas encontraste.\n"
      ],
      "metadata": {
        "id": "Ctb-NTY3MkYG"
      }
    },
    {
      "cell_type": "code",
      "source": [
        "result = []\n",
        "\n",
        "for line in temp:\n",
        "  check = re.findall(r\"(?i)(\\bso{2,}\\b)|(\\bgo{3,}d+\\b)\", line)\n",
        "  if(check):\n",
        "    result.append(check)\n",
        "\n",
        "print(\"Palabras encontradas:\",len(result))"
      ],
      "metadata": {
        "id": "A8Nf3B_cMlqg",
        "colab": {
          "base_uri": "https://localhost:8080/"
        },
        "outputId": "66d35c4c-0b95-4ffb-b5e3-a6af3f6a50ce"
      },
      "execution_count": 69,
      "outputs": [
        {
          "output_type": "stream",
          "name": "stdout",
          "text": [
            "Palabras encontradas: 5\n"
          ]
        }
      ]
    },
    {
      "cell_type": "code",
      "source": [
        "result"
      ],
      "metadata": {
        "id": "svS4-vvPMl6f",
        "colab": {
          "base_uri": "https://localhost:8080/"
        },
        "outputId": "6b0be98a-0b56-40f1-c704-1285e856de19"
      },
      "execution_count": 70,
      "outputs": [
        {
          "output_type": "execute_result",
          "data": {
            "text/plain": [
              "[[('Sooooo', '')],\n",
              " [('soooo', '')],\n",
              " [('', 'gooodd')],\n",
              " [('soooooo', '')],\n",
              " [('soooo', '')]]"
            ]
          },
          "metadata": {},
          "execution_count": 70
        }
      ]
    },
    {
      "cell_type": "markdown",
      "source": [
        "*   **Pregunta 9.**  \n",
        "\n",
        "Busca e imprime todas las palabras que tengan una longitud mayor estrictamente a 10 caracteres alfabéticos.\n",
        "\n",
        "No se consideran los signos de puntuación o caracteres especiales en la longitud de estas cadenas, solo caracteres alfabéticos en mayúsculas o minúsculas.\n",
        "\n",
        "Indica la cantidad de palabras encontradas.\n"
      ],
      "metadata": {
        "id": "hkak1opjMmlk"
      }
    },
    {
      "cell_type": "code",
      "source": [
        "result = []\n",
        "i=0\n",
        "\n",
        "for line in temp:\n",
        "  check = re.findall(r\"\\w{10,}\", line)\n",
        "  if(check):\n",
        "    result.append(check)\n",
        "    i+=1\n",
        "\n",
        "print(\"Palabras encontradas:\",i)"
      ],
      "metadata": {
        "id": "PYxdp3uhMoD0",
        "colab": {
          "base_uri": "https://localhost:8080/"
        },
        "outputId": "9cd61137-0cbd-4536-8c47-91bccc69bd0e"
      },
      "execution_count": 77,
      "outputs": [
        {
          "output_type": "stream",
          "name": "stdout",
          "text": [
            "Palabras encontradas: 299\n"
          ]
        }
      ]
    },
    {
      "cell_type": "code",
      "source": [
        "result"
      ],
      "metadata": {
        "id": "BR7e2F4FMof-",
        "colab": {
          "base_uri": "https://localhost:8080/"
        },
        "outputId": "9dbc19c4-9231-474a-88de-ea9a14492c2c"
      },
      "execution_count": 78,
      "outputs": [
        {
          "output_type": "execute_result",
          "data": {
            "text/plain": [
              "[['recommendation'],\n",
              " ['overpriced'],\n",
              " ['recommended'],\n",
              " ['restaurant', 'overwhelmed'],\n",
              " ['restaurant', 'inexpensive'],\n",
              " ['establishment'],\n",
              " ['refreshing'],\n",
              " ['sunglasses'],\n",
              " ['imaginative'],\n",
              " ['absolutely', 'restaurant'],\n",
              " ['APPETIZERS'],\n",
              " ['definitely'],\n",
              " ['apparently'],\n",
              " ['opportunity'],\n",
              " ['experiencing', 'underwhelming', 'relationship'],\n",
              " ['unsatisfying'],\n",
              " ['Everything'],\n",
              " ['disappointing', 'experience'],\n",
              " ['outrageously'],\n",
              " ['Tigerlilly'],\n",
              " ['personable'],\n",
              " ['restaurant', 'definitely'],\n",
              " ['atmosphere'],\n",
              " ['experience', 'disappointing'],\n",
              " ['Phenomenal'],\n",
              " ['Definitely'],\n",
              " ['overpriced'],\n",
              " ['management'],\n",
              " ['selections'],\n",
              " ['expectations'],\n",
              " ['restaurants'],\n",
              " ['suggestions'],\n",
              " ['disappointed'],\n",
              " ['considering'],\n",
              " ['restaurant'],\n",
              " ['highlights'],\n",
              " ['Unfortunately', 'everything'],\n",
              " ['immediately'],\n",
              " ['reasonably'],\n",
              " ['Restaurant'],\n",
              " ['ingredients'],\n",
              " ['waitresses'],\n",
              " ['Everything', 'accommodations', 'vegetarian'],\n",
              " ['atmosphere', 'maintaining'],\n",
              " ['definitely'],\n",
              " ['absolutely', 'overcooked'],\n",
              " ['incredible'],\n",
              " ['Interesting'],\n",
              " ['disrespected'],\n",
              " ['EXPERIENCE'],\n",
              " ['accordingly'],\n",
              " ['unbelievable'],\n",
              " ['uninspired'],\n",
              " ['experience'],\n",
              " ['cheeseburger'],\n",
              " ['descriptions'],\n",
              " ['flavourful'],\n",
              " ['restaurant'],\n",
              " ['privileged'],\n",
              " ['complaints'],\n",
              " ['godfathers'],\n",
              " ['restaurant', 'atmosphere'],\n",
              " ['inexpensive'],\n",
              " ['absolutely'],\n",
              " ['proclaimed', 'disappointed'],\n",
              " ['Veggitarian'],\n",
              " ['outstanding'],\n",
              " ['recommendation', 'disappointed'],\n",
              " ['restaurant'],\n",
              " ['definitely'],\n",
              " ['disappointed'],\n",
              " ['incredible'],\n",
              " ['neighborhood', 'disappointed', 'convenient'],\n",
              " ['incredibly'],\n",
              " ['everything'],\n",
              " ['corporation'],\n",
              " ['delightful'],\n",
              " ['reasonable'],\n",
              " ['considering'],\n",
              " ['exceptional'],\n",
              " ['shawarrrrrrma'],\n",
              " ['disappointed'],\n",
              " ['vinaigrette'],\n",
              " ['restaurant', 'especially'],\n",
              " ['immediately'],\n",
              " ['unbelievably'],\n",
              " ['atmosphere'],\n",
              " ['Everything'],\n",
              " ['replenished'],\n",
              " ['disappointed'],\n",
              " ['whatsoever'],\n",
              " ['vegetables'],\n",
              " ['atmosphere', 'appetizers'],\n",
              " ['enthusiastic'],\n",
              " ['Outstanding', 'restaurant'],\n",
              " ['Definitely'],\n",
              " ['despicable'],\n",
              " ['comfortable'],\n",
              " ['interesting'],\n",
              " ['INCONSIDERATE', 'MANAGEMENT'],\n",
              " ['outshining', 'definitely'],\n",
              " ['experience'],\n",
              " ['experience'],\n",
              " ['reasonable', 'considering'],\n",
              " ['incredible', 'transcendant'],\n",
              " ['atmosphere'],\n",
              " ['perfection', 'impeccable'],\n",
              " ['disappointment'],\n",
              " ['disappointed'],\n",
              " ['accountant'],\n",
              " ['frustrated'],\n",
              " ['definitely'],\n",
              " ['disappointed'],\n",
              " ['completely'],\n",
              " ['overwhelmed', 'professional'],\n",
              " ['companions', 'everything'],\n",
              " ['everywhere'],\n",
              " ['Furthermore'],\n",
              " ['complaints'],\n",
              " ['connisseur'],\n",
              " ['restaurant'],\n",
              " ['absolutley'],\n",
              " ['definitely'],\n",
              " ['restaurant'],\n",
              " ['combination'],\n",
              " ['connoisseur', 'definitely', 'difference'],\n",
              " ['Definitely'],\n",
              " ['profiterole'],\n",
              " ['outstanding', 'reasonable'],\n",
              " ['acknowledged', 'forgetting'],\n",
              " ['margaritas'],\n",
              " ['disappoint'],\n",
              " ['ventilation'],\n",
              " ['beautifully'],\n",
              " ['definitely'],\n",
              " ['absolutely'],\n",
              " ['restaurant', 'establishment'],\n",
              " ['extraordinary'],\n",
              " ['humiliated'],\n",
              " ['CONCLUSION'],\n",
              " ['experience'],\n",
              " ['incredible'],\n",
              " ['Thoroughly', 'disappointed'],\n",
              " ['cheesecurds'],\n",
              " ['Reasonably'],\n",
              " ['Everything'],\n",
              " ['disappointed'],\n",
              " ['restaurant'],\n",
              " ['Everything'],\n",
              " ['interesting'],\n",
              " ['management'],\n",
              " ['restaurant', 'experienced'],\n",
              " ['opportunity'],\n",
              " ['yellowtail'],\n",
              " ['disgraceful'],\n",
              " ['experience', 'particular'],\n",
              " ['restaurants'],\n",
              " ['ESTABLISHMENT'],\n",
              " ['restaurant'],\n",
              " ['vinegrette'],\n",
              " ['disgusting'],\n",
              " ['recommended'],\n",
              " ['management'],\n",
              " ['disappointed'],\n",
              " ['recommended'],\n",
              " ['acknowledged'],\n",
              " ['presentation'],\n",
              " ['accomodate'],\n",
              " ['Philadelphia'],\n",
              " ['satisfying'],\n",
              " ['Scottsdale', 'disappointed'],\n",
              " ['definitely'],\n",
              " ['businesses'],\n",
              " ['experience'],\n",
              " ['disappointing'],\n",
              " ['management'],\n",
              " ['grandmother'],\n",
              " ['especially'],\n",
              " ['drastically'],\n",
              " ['impeccable'],\n",
              " ['informative'],\n",
              " ['Experience'],\n",
              " ['Disappointed'],\n",
              " ['constructed'],\n",
              " ['comfortable'],\n",
              " ['restaurant'],\n",
              " ['experience'],\n",
              " ['atmosphere', 'violinists'],\n",
              " ['personally'],\n",
              " ['convenient'],\n",
              " ['perfection'],\n",
              " ['Smashburger'],\n",
              " ['disappoint'],\n",
              " ['cheeseburger'],\n",
              " ['neighborhood'],\n",
              " ['themselves'],\n",
              " ['atmosphere'],\n",
              " ['reasonable'],\n",
              " ['soundtrack'],\n",
              " ['absolutely'],\n",
              " ['definitely'],\n",
              " ['disappointed'],\n",
              " ['definitely'],\n",
              " ['hospitality', 'recommending'],\n",
              " ['atmosphere'],\n",
              " ['atmosphere'],\n",
              " ['disappointed', 'everything'],\n",
              " ['deliciously'],\n",
              " ['compliments'],\n",
              " ['recommendation'],\n",
              " ['definitely', 'establishment', 'revisiting'],\n",
              " ['restaurant'],\n",
              " ['experience'],\n",
              " ['calligraphy'],\n",
              " ['restaurant', 'restaurant'],\n",
              " ['vegetarian'],\n",
              " ['management'],\n",
              " ['vinegrette'],\n",
              " ['definitely'],\n",
              " ['definately'],\n",
              " ['affordable'],\n",
              " ['absolutely'],\n",
              " ['traditional'],\n",
              " ['bartenders', 'absolutely'],\n",
              " ['margaritas'],\n",
              " ['restaraunt', 'combination'],\n",
              " ['girlfriend'],\n",
              " ['Unfortunately'],\n",
              " ['experience'],\n",
              " ['flavorless', 'describing'],\n",
              " ['everything'],\n",
              " ['atmosphere'],\n",
              " ['Wienerschnitzel'],\n",
              " ['vegetables', 'overcooked'],\n",
              " ['unfortunately'],\n",
              " ['bruschetta'],\n",
              " ['mozzarella'],\n",
              " ['experience'],\n",
              " ['overpriced', 'consistent', 'OVERPRICED'],\n",
              " ['officially'],\n",
              " ['definitely'],\n",
              " ['containers'],\n",
              " ['experience'],\n",
              " ['considering'],\n",
              " ['overpriced'],\n",
              " ['especially'],\n",
              " ['reasonable'],\n",
              " ['restaurant'],\n",
              " ['Everything'],\n",
              " ['sandwiches', 'everything'],\n",
              " ['restaurant', 'highlighted'],\n",
              " ['completely', 'delightful', 'experience'],\n",
              " ['flavorless'],\n",
              " ['definately'],\n",
              " ['Albondigas'],\n",
              " ['absolutely'],\n",
              " ['Mediterranean'],\n",
              " ['selections'],\n",
              " ['strawberry'],\n",
              " ['unprofessional'],\n",
              " ['experience'],\n",
              " ['satisfying', 'occasional'],\n",
              " ['anticipated'],\n",
              " ['disappointing'],\n",
              " ['unexperienced'],\n",
              " ['disrespected'],\n",
              " ['steakhouse', 'understand'],\n",
              " ['experience'],\n",
              " ['disgusting'],\n",
              " ['professional'],\n",
              " ['restaurants', 'definitely'],\n",
              " ['Disappointing', 'experience'],\n",
              " ['WAAAAAAyyyyyyyyyy'],\n",
              " ['ridiculous'],\n",
              " ['reservation'],\n",
              " ['imagination'],\n",
              " ['vegetables', 'undercooked'],\n",
              " ['disappointed'],\n",
              " ['overpriced'],\n",
              " ['Vegetarian'],\n",
              " ['disappointment'],\n",
              " ['disappointment'],\n",
              " ['deuchebaggery'],\n",
              " ['disappointed'],\n",
              " ['disappointment'],\n",
              " ['restaurant'],\n",
              " ['immediately'],\n",
              " ['Unfortunately', 'disapppointment'],\n",
              " ['correction'],\n",
              " ['Overpriced'],\n",
              " ['circumstances'],\n",
              " ['restaurant'],\n",
              " ['vegetables'],\n",
              " ['undercooked'],\n",
              " ['impressive'],\n",
              " ['caterpillar'],\n",
              " ['presentation'],\n",
              " ['disappointed'],\n",
              " ['experience', 'underwhelming']]"
            ]
          },
          "metadata": {},
          "execution_count": 78
        }
      ]
    },
    {
      "cell_type": "markdown",
      "source": [
        "*   **Pregunta 10.**  \n",
        "\n",
        "Busca e imprime todas las palabras que inician con una letra mayúscula y terminan con una minúscula, pero que además no sea la primera palabra del comentario/string.\n",
        "\n",
        "Indica la cantidad de resultados obtenidos."
      ],
      "metadata": {
        "id": "ApjTNzSxMpDc"
      }
    },
    {
      "cell_type": "code",
      "source": [],
      "metadata": {
        "id": "Vb0ndRGAMqdL"
      },
      "execution_count": null,
      "outputs": []
    },
    {
      "cell_type": "code",
      "source": [],
      "metadata": {
        "id": "dLPTRPnTMqqx"
      },
      "execution_count": null,
      "outputs": []
    },
    {
      "cell_type": "markdown",
      "source": [
        "*   **Pregunta 11.**  \n",
        "\n",
        "Busca e imprime la secuencia de dos o más palabras que están separadas por un guion, \"-\", sin que tengan espacios en blanco entre ellas.\n",
        "\n",
        "Por ejemplo \"Go-Kart\" sería válido, pero \"Go  -Kart\" o \"Go  -  Kart\" no lo serían.\n",
        "\n",
        "Indica la cantidad de resultados obtenidos."
      ],
      "metadata": {
        "id": "u7nfm4KhMrNW"
      }
    },
    {
      "cell_type": "code",
      "source": [],
      "metadata": {
        "id": "OwU-a7eGMsub"
      },
      "execution_count": null,
      "outputs": []
    },
    {
      "cell_type": "code",
      "source": [],
      "metadata": {
        "id": "SgzIL74ZMtGw"
      },
      "execution_count": null,
      "outputs": []
    },
    {
      "cell_type": "markdown",
      "source": [
        "*   **Pregunta 12.**  \n",
        "\n",
        "Busca e imprime todas las palabras que terminan en \"ing\" o \"ed\".\n",
        "\n",
        "Indica la cantidad de palabras que encontraste de cada una."
      ],
      "metadata": {
        "id": "DEIgl79HMthr"
      }
    },
    {
      "cell_type": "code",
      "source": [],
      "metadata": {
        "id": "I4TSofBMMv9y"
      },
      "execution_count": null,
      "outputs": []
    },
    {
      "cell_type": "code",
      "source": [],
      "metadata": {
        "id": "AhGq6De2Mvyh"
      },
      "execution_count": null,
      "outputs": []
    },
    {
      "cell_type": "markdown",
      "source": [
        "#**Parte 3. Proceso de limpieza.**"
      ],
      "metadata": {
        "id": "70StdqAZa9E9"
      }
    },
    {
      "cell_type": "markdown",
      "source": [
        "*   **Pregunta 13.**  \n",
        "\n",
        "Ahora realiza un proceso de limpieza del corpus que incluya los siguientes procesos:\n",
        "\n",
        "*   Solo se deben considerar caracteres alfabéticos. Es decir, se eliminan todos los signos de puntuación y caracteres especiales.\n",
        "*   Todos los caracteres alfabéticos se transforman a minúsculas.\n",
        "*   Se deben eliminar todos los espacios en blanco adicionales que se puedan encontrar en cada comentario.\n",
        "\n",
        "Al finalizar dicho proceso de limpieza, imprime el resultado de los primeros 10 comentarios resultantes.\n",
        "   \n",
        "\n",
        "\n"
      ],
      "metadata": {
        "id": "xaDUFXHrMvX2"
      }
    },
    {
      "cell_type": "code",
      "source": [],
      "metadata": {
        "id": "K3kQzPOPMx0w"
      },
      "execution_count": null,
      "outputs": []
    },
    {
      "cell_type": "code",
      "source": [],
      "metadata": {
        "id": "mYEDlHSFMyJN"
      },
      "execution_count": null,
      "outputs": []
    },
    {
      "cell_type": "markdown",
      "source": [
        "*   **Pregunta 14.**  \n",
        "\n",
        "Con el resultado de la limpieza obtenido en la pregunta anterior, realiza ahora un proceso de tokenización por palabras del corpus.\n",
        "\n",
        "Es decir, al final de este proceso de tokenización, debes tener como resultado una lista de listas, donde cada comentario estará tokenizado por palabras.\n",
        "\n",
        "Al terminar calcula el total de tokens obtenido en todo el corpus."
      ],
      "metadata": {
        "id": "WZwEhg2lUSAX"
      }
    },
    {
      "cell_type": "code",
      "source": [],
      "metadata": {
        "id": "kbAL9-v0V-jx"
      },
      "execution_count": null,
      "outputs": []
    },
    {
      "cell_type": "code",
      "source": [],
      "metadata": {
        "id": "DZs_etmiV-fd"
      },
      "execution_count": null,
      "outputs": []
    },
    {
      "cell_type": "markdown",
      "source": [
        "*   **Pregunta 15.**  \n",
        "\n",
        "Finalmente, en este ejercicio definiremos nuestro conjunto de palabras \"stopwords\", las cuales deberás eliminar de todo el corpus.\n",
        "\n",
        "Recuerda que ejemplos de stopwords son artículos, adverbios, conectivos, etcétera, que tienen frecuencias de aparición muy altas en cualquier documento, pero que no brindan mucho significado en cuanto al significado de un enunciado.\n",
        "\n",
        "Con base a la lista de stopwords que se te proporciona, realiza un proceso de limpieza eliminando todas estas palabras del corpus obtenido en el ejercicio anterior.\n",
        "\n",
        "Obtener cuántos tokens/palabras quedan finalmente en todo el corpus.\n",
        "\n",
        "Obtener cuántos de estos tokens/palabras son diferentes, es decir, cuántos tokens únicos tendrá lo que llamaremos más adelante nuestro vocabulario."
      ],
      "metadata": {
        "id": "EFeu0OJ7WDPD"
      }
    },
    {
      "cell_type": "code",
      "source": [
        "# Considera la siguiente lista como tu conjunto de stopwords:\n",
        "mis_stopwords = ['i', 'me', 'my', 'myself', 'we', 'our', 'ours', 'ourselves', 'you', 'your', 'yours', 'he', 'him', 'his', 'himself', 'she', 'her', 'hers', 'herself', 'it', 'its', 'itself', 'they', 'them', 'their', 'theirs', 'themselves', 'what', 'which', 'who', 'whom', 'this', 'that', 'these', 'those', 'am', 'is', 'are', 'was', 'were', 'be', 'been', 'being', 'have', 'has', 'had', 'having', 'do', 'does', 'did', 'doing', 'a', 'an', 'the', 'and', 'but', 'if', 'or', 'because', 'as', 'until', 'while', 'of', 'at', 'by', 'for', 'with', 'about', 'against', 'between', 'into', 'through', 'during', 'before', 'after', 'above', 'below', 'to', 'from', 'up', 'down', 'in', 'out', 'on', 'over', 'under', 'again', 'further', 'then', 'once', 'here', 'there', 'when', 'where', 'why', 'how', 'all', 'any', 'both', 'each', 'few', 'more', 'most', 'other', 'some', 'such', 'only', 'own', 'same', 'so', 'than', 'too', 'very', 's', 't', 'can', 'will', 'just', 'should', 'now', 'll']"
      ],
      "metadata": {
        "id": "6FP4FF3KXGxm"
      },
      "execution_count": null,
      "outputs": []
    },
    {
      "cell_type": "code",
      "source": [],
      "metadata": {
        "id": "CD8yjyq1ZrwY"
      },
      "execution_count": null,
      "outputs": []
    },
    {
      "cell_type": "code",
      "source": [],
      "metadata": {
        "id": "4ZPi5prKZro5"
      },
      "execution_count": null,
      "outputs": []
    },
    {
      "cell_type": "markdown",
      "source": [
        "*   **Comentarios**\n",
        "\n",
        "Incluye finalmente tus comentarios de la actividad."
      ],
      "metadata": {
        "id": "NDbKkuxRbLoX"
      }
    },
    {
      "cell_type": "markdown",
      "source": [
        "<< incluye aquí tus comentarios >>"
      ],
      "metadata": {
        "id": "o7fzbvqVbUGr"
      }
    },
    {
      "cell_type": "markdown",
      "source": [
        "##**Fin de la Actividad de la semana 2.**"
      ],
      "metadata": {
        "id": "PHaKw_6Ldbaf"
      }
    }
  ]
}
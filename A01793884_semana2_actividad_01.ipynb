{
  "nbformat": 4,
  "nbformat_minor": 0,
  "metadata": {
    "colab": {
      "provenance": [],
      "collapsed_sections": [
        "759SG4TyfbUn",
        "Zj-h4drXD-X9",
        "BY6yifxscfrx",
        "k_ewoagic5jc",
        "70StdqAZa9E9"
      ]
    },
    "kernelspec": {
      "name": "python3",
      "display_name": "Python 3"
    },
    "language_info": {
      "name": "python"
    }
  },
  "cells": [
    {
      "cell_type": "markdown",
      "source": [
        "#**Maestría en Inteligencia Artificial Aplicada**\n",
        "##**Curso: Procesamiento de Lenguaje Natural (NLP)**\n",
        "###Tecnológico de Monterrey\n",
        "###Prof Luis Eduardo Falcón Morales\n",
        "\n",
        "## **Adtividad de la Semana 02**\n",
        "###**Introducción al procesamiento de texto.**"
      ],
      "metadata": {
        "id": "759SG4TyfbUn"
      }
    },
    {
      "cell_type": "markdown",
      "source": [
        "En esta actividad deberás utilizar los datos del siguiente archivo que se encuentra en Canvas:\n",
        "\n",
        "MNA_NLP_semana_02_Actividad_datos.txt\n",
        "\n",
        "El archivo contiene comentarios en inglés sobre servicios de comida de la página de Yelp: https://www.yelp.com/ .\n",
        "\n",
        "Son mil comentarios y forman parte del conjunto de datos que se encuentra en el Machine Learning Repository de la UCI, llamado \"Sentiment Labelled Sentences\": https://archive.ics.uci.edu/ml/datasets/Sentiment+Labelled+Sentences#\n"
      ],
      "metadata": {
        "id": "6ue1YAKx3XDo"
      }
    },
    {
      "cell_type": "markdown",
      "source": [
        "#**Parte 1. Cargamos los datos.**   "
      ],
      "metadata": {
        "id": "Zj-h4drXD-X9"
      }
    },
    {
      "cell_type": "markdown",
      "source": [
        "Cargar los datos del archivo indicado y obtener una lista de longitud de 1000 strings/comentarios.\n",
        "\n",
        "Por el momento solamente requerimos las bibliotecas de Numpy y re, para el manejo de los arreglos y de las expresiones regulares en Python.\n",
        "\n",
        "En particular, no necesitarás en esta actividad la biblioteca de Pandas.\n",
        "\n",
        "###**NOTA: En esta actividad no debes importar nada más, con estas dos bibliotecas será *suficiente*.**"
      ],
      "metadata": {
        "id": "BY6yifxscfrx"
      }
    },
    {
      "cell_type": "code",
      "source": [
        "import numpy as np    # importamos Numpy para el manejo de los arreglos.\n",
        "import re             # importamos re para el manejo de las expresiones regulares."
      ],
      "metadata": {
        "id": "OJ26dAfhdFnf"
      },
      "execution_count": 1,
      "outputs": []
    },
    {
      "cell_type": "code",
      "source": [
        "# Ejecuta las siguientes instrucciones para cargar la información del achivo dado:\n",
        "\n",
        "with open('MNA_NLP_semana_02_Actividad_datos.txt',        # puedes actualizar la ruta a tu archivo, en dado caso.\n",
        "          mode='r',     # abrimos el archivo en modo lectura.\n",
        "          ) as f:\n",
        "    docs = f.readlines()    # separamos cada comentario por líneas\n",
        "\n",
        "f.close()  # ya que tenemos la información en la variable docs, cerramos el archivo"
      ],
      "metadata": {
        "id": "QHUmJyjDdGNP"
      },
      "execution_count": 19,
      "outputs": []
    },
    {
      "cell_type": "code",
      "source": [
        "type(docs) == list   # Verifica que tu variable \"docs\" es una lista"
      ],
      "metadata": {
        "id": "L6WzrSrodG-Y",
        "colab": {
          "base_uri": "https://localhost:8080/"
        },
        "outputId": "02861aaa-f890-48b1-ae36-12c19a67bba7"
      },
      "execution_count": 20,
      "outputs": [
        {
          "output_type": "execute_result",
          "data": {
            "text/plain": [
              "True"
            ]
          },
          "metadata": {},
          "execution_count": 20
        }
      ]
    },
    {
      "cell_type": "code",
      "source": [
        "len(docs)==1000  # verifica que la longitud de \"docs\" es de mil comentarios."
      ],
      "metadata": {
        "id": "QIK1u9WS2FtS",
        "colab": {
          "base_uri": "https://localhost:8080/"
        },
        "outputId": "1b5296a5-746b-406e-d419-16ad361c4dfb"
      },
      "execution_count": 21,
      "outputs": [
        {
          "output_type": "execute_result",
          "data": {
            "text/plain": [
              "True"
            ]
          },
          "metadata": {},
          "execution_count": 21
        }
      ]
    },
    {
      "cell_type": "code",
      "source": [
        "docs[0:10]     # observa algunos de los primeros comentarios"
      ],
      "metadata": {
        "id": "9AMLIfQvJqNZ",
        "colab": {
          "base_uri": "https://localhost:8080/"
        },
        "outputId": "d6b0e9a0-3f51-415d-eb82-1dd72482de2d"
      },
      "execution_count": 22,
      "outputs": [
        {
          "output_type": "execute_result",
          "data": {
            "text/plain": [
              "['Wow... Loved this place.\\n',\n",
              " 'Crust is not good.\\n',\n",
              " 'Not tasty and the texture was just nasty.\\n',\n",
              " 'Stopped by during the late May bank holiday off Rick Steve recommendation and loved it.\\n',\n",
              " 'The selection on the menu was great and so were the prices.\\n',\n",
              " 'Now I am getting angry and I want my damn pho.\\n',\n",
              " \"Honeslty it didn't taste THAT fresh.)\\n\",\n",
              " 'The potatoes were like rubber and you could tell they had been made up ahead of time being kept under a warmer.\\n',\n",
              " 'The fries were great too.\\n',\n",
              " 'A great touch.\\n']"
            ]
          },
          "metadata": {},
          "execution_count": 22
        }
      ]
    },
    {
      "cell_type": "markdown",
      "source": [
        "#**Parte 2: sección de preguntas (regex).**   \n"
      ],
      "metadata": {
        "id": "k_ewoagic5jc"
      }
    },
    {
      "cell_type": "markdown",
      "source": [
        "##**Instrucciones:**\n",
        "\n",
        "###**A continuación deberás contestar cada una de las preguntas que te piden usando expresiones regulares (regex).**\n",
        "\n",
        "###**Por el momento no hay restricción en cuanto al número de líneas de código que agregues, pero trata de incluir las mínimas posibles.**"
      ],
      "metadata": {
        "id": "X-eMJa3DFCIV"
      }
    },
    {
      "cell_type": "markdown",
      "source": [
        "*   **Pregunta 1.**\n",
        "\n",
        "Busca y elimina todos los saltos de línea '\\n' que se encuentran al final de cada comentario.\n",
        "\n",
        "Una vez finalizado, imprime los primeros 10 comentarios del resultado obtenido.\n"
      ],
      "metadata": {
        "id": "78nJMemzn5a5"
      }
    },
    {
      "cell_type": "code",
      "source": [
        "temp = docs"
      ],
      "metadata": {
        "id": "kZ3fUXzdSRJL"
      },
      "execution_count": 135,
      "outputs": []
    },
    {
      "cell_type": "code",
      "source": [
        "temp[0:10]"
      ],
      "metadata": {
        "colab": {
          "base_uri": "https://localhost:8080/"
        },
        "id": "h0X9g46iVFRA",
        "outputId": "12a1d584-12b7-4a4a-8199-60acefe8e960"
      },
      "execution_count": 68,
      "outputs": [
        {
          "output_type": "execute_result",
          "data": {
            "text/plain": [
              "['Wow... Loved this place.\\n',\n",
              " 'Crust is not good.\\n',\n",
              " 'Not tasty and the texture was just nasty.\\n',\n",
              " 'Stopped by during the late May bank holiday off Rick Steve recommendation and loved it.\\n',\n",
              " 'The selection on the menu was great and so were the prices.\\n',\n",
              " 'Now I am getting angry and I want my damn pho.\\n',\n",
              " \"Honeslty it didn't taste THAT fresh.)\\n\",\n",
              " 'The potatoes were like rubber and you could tell they had been made up ahead of time being kept under a warmer.\\n',\n",
              " 'The fries were great too.\\n',\n",
              " 'A great touch.\\n']"
            ]
          },
          "metadata": {},
          "execution_count": 68
        }
      ]
    },
    {
      "cell_type": "code",
      "source": [
        "result = []\n",
        "\n",
        "for line in temp:\n",
        "  result.append(re.sub(r\"(\\n)\",\"\", line))"
      ],
      "metadata": {
        "id": "j-0qeh2Jn8l1"
      },
      "execution_count": 73,
      "outputs": []
    },
    {
      "cell_type": "code",
      "source": [
        "result[0:10]"
      ],
      "metadata": {
        "colab": {
          "base_uri": "https://localhost:8080/"
        },
        "id": "BrW1wD6cT9fr",
        "outputId": "fb91b86f-3215-4ce6-9a7a-ed14f46d5bea"
      },
      "execution_count": 74,
      "outputs": [
        {
          "output_type": "execute_result",
          "data": {
            "text/plain": [
              "['Wow... Loved this place.',\n",
              " 'Crust is not good.',\n",
              " 'Not tasty and the texture was just nasty.',\n",
              " 'Stopped by during the late May bank holiday off Rick Steve recommendation and loved it.',\n",
              " 'The selection on the menu was great and so were the prices.',\n",
              " 'Now I am getting angry and I want my damn pho.',\n",
              " \"Honeslty it didn't taste THAT fresh.)\",\n",
              " 'The potatoes were like rubber and you could tell they had been made up ahead of time being kept under a warmer.',\n",
              " 'The fries were great too.',\n",
              " 'A great touch.']"
            ]
          },
          "metadata": {},
          "execution_count": 74
        }
      ]
    },
    {
      "cell_type": "markdown",
      "source": [
        "*   **Pregunta 2.**  \n",
        "\n",
        "Busca e imprime todas las palabras que terminan con dos o más signos de admiración seguidos, por ejemplo \"!!!\".\n",
        "\n",
        "Debes imprimir tanto la palabra como la totalidad de signos de admiración que le siguen.\n",
        "\n",
        "Indica cuántos resultados obtuviste.\n",
        "\n"
      ],
      "metadata": {
        "id": "VWeKQC93ctEo"
      }
    },
    {
      "cell_type": "code",
      "source": [
        "result2 = []\n",
        "\n",
        "for line in temp:\n",
        "  check = re.findall(r\"(\\w+)!\", line)\n",
        "  marks = re.findall(r\"!\", line)\n",
        "  if(check):\n",
        "    result2.append(check+marks)"
      ],
      "metadata": {
        "id": "0p3kMXfddICc"
      },
      "execution_count": 155,
      "outputs": []
    },
    {
      "cell_type": "code",
      "source": [
        "result2"
      ],
      "metadata": {
        "id": "SPVM1MCWdH6Z",
        "colab": {
          "base_uri": "https://localhost:8080/"
        },
        "outputId": "8f82ad76-f9f3-4b16-8106-bb87a3f3af7c"
      },
      "execution_count": 156,
      "outputs": [
        {
          "output_type": "execute_result",
          "data": {
            "text/plain": [
              "[['mmmm', '!'],\n",
              " ['Blah', '!'],\n",
              " ['blow', '!'],\n",
              " ['delight', '!'],\n",
              " ['Firehouse', '!', '!', '!', '!', '!'],\n",
              " ['good', '!'],\n",
              " ['huge', '!'],\n",
              " ['APPETIZERS', '!', '!', '!'],\n",
              " ['Gringos', '!'],\n",
              " ['it', '!'],\n",
              " ['amazing', '!', '!', '!'],\n",
              " ['for', '!'],\n",
              " ['delicious', '!'],\n",
              " ['AGAIN', '!'],\n",
              " ['buffet', '!', '!', '!'],\n",
              " ['lady', '!'],\n",
              " ['again', '!'],\n",
              " ['quickly', '!'],\n",
              " ['go', '!'],\n",
              " ['afternoon', '!'],\n",
              " ['deal', '!'],\n",
              " ['good', '!', '!'],\n",
              " ['gross', '!'],\n",
              " ['BITCHES', '!'],\n",
              " ['excellent', '!'],\n",
              " ['it', '!', '!', '!', '!'],\n",
              " ['here', '!'],\n",
              " ['cost', '!'],\n",
              " ['DELICIOUS', '!', '!'],\n",
              " ['lovers', '!'],\n",
              " ['rudely', '!'],\n",
              " ['food', '!'],\n",
              " ['Pho', '!'],\n",
              " ['serivce', '!'],\n",
              " ['Tasty', '!'],\n",
              " ['though', '!'],\n",
              " ['see', '!'],\n",
              " ['BARGAIN', '!'],\n",
              " ['amazing', '!', '!'],\n",
              " ['flavor', '!'],\n",
              " ['boot', '!'],\n",
              " ['ago', '!'],\n",
              " ['world', '!'],\n",
              " ['FLAVOR', '!'],\n",
              " ['here', '!'],\n",
              " ['Salads', '!'],\n",
              " ['amazing', '!'],\n",
              " ['did', '!'],\n",
              " ['place', '!'],\n",
              " ['check', '!'],\n",
              " ['me', '!'],\n",
              " ['good', '!'],\n",
              " ['food', '!'],\n",
              " ['house', '!'],\n",
              " ['shawarrrrrrma', '!', '!', '!', '!', '!', '!'],\n",
              " ['UNREAL', '!'],\n",
              " ['yucky', '!', '!', '!'],\n",
              " ['delicioso', '!'],\n",
              " ['Tucson', '!'],\n",
              " ['steak', '!', '!', '!', '!', '!'],\n",
              " ['app', '!'],\n",
              " ['terrible', '!'],\n",
              " ['delicious', '!', '!', '!'],\n",
              " ['delicious', '!'],\n",
              " ['life', '!'],\n",
              " ['it', '!'],\n",
              " ['far', '!', '!'],\n",
              " ['kiddos', '!'],\n",
              " ['screwed', '!'],\n",
              " ['stuffed', '!'],\n",
              " ['website', '!'],\n",
              " ['was', '!'],\n",
              " ['complaints', '!'],\n",
              " ['biscuits', '!', '!', '!'],\n",
              " ['delicious', '!'],\n",
              " ['winner', '!'],\n",
              " ['too', '!'],\n",
              " ['though', '!'],\n",
              " ['it', '!'],\n",
              " ['back', '!'],\n",
              " ['decide', '!'],\n",
              " ['delicious', '!'],\n",
              " ['delicious', '!'],\n",
              " ['service', '!'],\n",
              " ['disappointed', '!'],\n",
              " ['had', '!'],\n",
              " ['also', '!'],\n",
              " ['NOW', '!'],\n",
              " ['tasty', '!'],\n",
              " ['ever', '!'],\n",
              " ['pizzas', '!'],\n",
              " ['back', '!'],\n",
              " ['place', '!'],\n",
              " ['this', '!'],\n",
              " ['here', '!'],\n",
              " ['ESTABLISHMENT', '!'],\n",
              " ['delicious', '!'],\n",
              " ['time', '!'],\n",
              " ['anyone', '!'],\n",
              " ['delicious', '!'],\n",
              " ['better', '!'],\n",
              " ['dry', '!', '!'],\n",
              " ['recommended', '!'],\n",
              " ['NASTY', '!'],\n",
              " ['ever', '!'],\n",
              " ['Phoenix', '!'],\n",
              " ['Philadelphia', '!'],\n",
              " ['disappointed', '!'],\n",
              " ['one', '!', '!'],\n",
              " ['visit', '!'],\n",
              " ['disappointing', '!', '!', '!'],\n",
              " ['baby', '!'],\n",
              " ['good', '!'],\n",
              " ['here', '!'],\n",
              " ['Experience', '!'],\n",
              " ['soon', '!'],\n",
              " ['restaurant', '!'],\n",
              " ['eggplant', '!'],\n",
              " ['MGM', '!'],\n",
              " ['great', '!'],\n",
              " ['cheeseburger', '!'],\n",
              " ['had', '!'],\n",
              " ['back', '!'],\n",
              " ['awesome', '!', '!'],\n",
              " ['it', '!'],\n",
              " ['terrible', '!', '!'],\n",
              " ['Up', '!', '!'],\n",
              " ['dough', '!'],\n",
              " ['service', '!'],\n",
              " ['FLY', '!', '!', '!', '!', '!', '!', '!', '!'],\n",
              " ['back', '!'],\n",
              " ['rapidly', '!'],\n",
              " ['FANTASTIC', '!'],\n",
              " ['again', '!'],\n",
              " ['eat', '!'],\n",
              " ['stale', '!'],\n",
              " ['here', '!', '!', '!'],\n",
              " ['Stars', '!'],\n",
              " ['amazing', '!'],\n",
              " ['HAVE', '!'],\n",
              " ['great',\n",
              "  '!',\n",
              "  '!',\n",
              "  '!',\n",
              "  '!',\n",
              "  '!',\n",
              "  '!',\n",
              "  '!',\n",
              "  '!',\n",
              "  '!',\n",
              "  '!',\n",
              "  '!',\n",
              "  '!',\n",
              "  '!',\n",
              "  '!'],\n",
              " ['surprise', '!'],\n",
              " ['place', '!'],\n",
              " ['OVERPRICED', '!'],\n",
              " ['packed', '!', '!'],\n",
              " ['here', '!'],\n",
              " ['since', '!'],\n",
              " ['were', '!'],\n",
              " ['otherwise', '!', '!'],\n",
              " ['lot', '!'],\n",
              " ['dude', '!'],\n",
              " ['patron', '!'],\n",
              " ['people', '!'],\n",
              " ['amazing',\n",
              "  '!',\n",
              "  '!',\n",
              "  '!',\n",
              "  '!',\n",
              "  '!',\n",
              "  '!',\n",
              "  '!',\n",
              "  '!',\n",
              "  '!',\n",
              "  '!',\n",
              "  '!',\n",
              "  '!',\n",
              "  '!',\n",
              "  '!',\n",
              "  '!',\n",
              "  '!',\n",
              "  '!',\n",
              "  '!',\n",
              "  '!'],\n",
              " ['understand', '!'],\n",
              " ['no', '!'],\n",
              " ['disgusting', '!'],\n",
              " ['one', '!'],\n",
              " ['style', '!', '!'],\n",
              " ['disappointed', '!', '!'],\n",
              " ['disappointment', '!']]"
            ]
          },
          "metadata": {},
          "execution_count": 156
        }
      ]
    },
    {
      "cell_type": "markdown",
      "source": [
        "*   **Pregunta 3.**  \n",
        "\n",
        "Busca e imprime todas las palabras que están escritas totalmente en mayúsculas. Cada coincidencia debe ser una sola palabra.\n",
        "\n",
        "Indica cuántas palabras encontraste.\n",
        "\n"
      ],
      "metadata": {
        "id": "-s3okBqL96TT"
      }
    },
    {
      "cell_type": "code",
      "source": [
        "result3 = []\n",
        "\n",
        "for line in temp:\n",
        "  check = re.findall(r\"\\b[A-Z]+\\b\", line)\n",
        "  if(check):\n",
        "    result3.append(check)\n",
        "\n",
        "print(\"Palabras en Mayúsculas encontradaS:\",len(result3))"
      ],
      "metadata": {
        "id": "yKHJkZKo_nW5",
        "colab": {
          "base_uri": "https://localhost:8080/"
        },
        "outputId": "020a0048-1abb-47b7-85a3-18a368cb3fad"
      },
      "execution_count": 176,
      "outputs": [
        {
          "output_type": "stream",
          "name": "stdout",
          "text": [
            "Palabras en Mayúsculas encontradaS: 350\n"
          ]
        }
      ]
    },
    {
      "cell_type": "code",
      "source": [
        "result3"
      ],
      "metadata": {
        "id": "L3q08aq69sNn",
        "colab": {
          "base_uri": "https://localhost:8080/"
        },
        "outputId": "3bc64ff8-f971-4a09-e3c0-7da310590867"
      },
      "execution_count": 177,
      "outputs": [
        {
          "output_type": "execute_result",
          "data": {
            "text/plain": [
              "[['I', 'I'],\n",
              " ['THAT'],\n",
              " ['A'],\n",
              " ['I'],\n",
              " ['I'],\n",
              " ['I', 'I'],\n",
              " ['I'],\n",
              " ['I'],\n",
              " ['I', 'I'],\n",
              " ['I'],\n",
              " ['I'],\n",
              " ['I'],\n",
              " ['I'],\n",
              " ['APPETIZERS'],\n",
              " ['A'],\n",
              " ['I', 'I', 'I'],\n",
              " ['I'],\n",
              " ['I'],\n",
              " ['I'],\n",
              " ['I'],\n",
              " ['WILL', 'NEVER', 'EVER', 'STEP', 'FORWARD', 'IN', 'IT', 'AGAIN'],\n",
              " ['I', 'LOVED'],\n",
              " ['I'],\n",
              " ['AND'],\n",
              " ['REAL'],\n",
              " ['I'],\n",
              " ['I'],\n",
              " ['I', 'I'],\n",
              " ['BITCHES'],\n",
              " ['I', 'I'],\n",
              " ['I'],\n",
              " ['I'],\n",
              " ['NYC'],\n",
              " ['I'],\n",
              " ['I'],\n",
              " ['I'],\n",
              " ['I'],\n",
              " ['I'],\n",
              " ['I', 'I'],\n",
              " ['STALE'],\n",
              " ['I'],\n",
              " ['I'],\n",
              " ['DELICIOUS'],\n",
              " ['I'],\n",
              " ['I', 'I'],\n",
              " ['I'],\n",
              " ['I'],\n",
              " ['I'],\n",
              " ['I'],\n",
              " ['I'],\n",
              " ['I'],\n",
              " ['I'],\n",
              " ['I'],\n",
              " ['I', 'I'],\n",
              " ['I', 'I'],\n",
              " ['WORST', 'EXPERIENCE', 'EVER'],\n",
              " ['I'],\n",
              " ['ALL'],\n",
              " ['I'],\n",
              " ['BARGAIN'],\n",
              " ['I'],\n",
              " ['TV'],\n",
              " ['NONE'],\n",
              " ['I', 'M'],\n",
              " ['FREEZING'],\n",
              " ['AYCE', 'I'],\n",
              " ['I', 'I'],\n",
              " ['I', 'I', 'I'],\n",
              " ['I'],\n",
              " ['I'],\n",
              " ['I'],\n",
              " ['I'],\n",
              " ['I'],\n",
              " ['I'],\n",
              " ['I'],\n",
              " ['FLAVOR'],\n",
              " ['I'],\n",
              " ['I', 'I'],\n",
              " ['I'],\n",
              " ['I'],\n",
              " ['I'],\n",
              " ['I'],\n",
              " ['I', 'I'],\n",
              " ['I', 'I', 'I'],\n",
              " ['I'],\n",
              " ['I', 'I'],\n",
              " ['I'],\n",
              " ['I'],\n",
              " ['I'],\n",
              " ['NEVER'],\n",
              " ['I', 'I'],\n",
              " ['I'],\n",
              " ['I'],\n",
              " ['BBQ'],\n",
              " ['I'],\n",
              " ['A', 'I'],\n",
              " ['UNREAL'],\n",
              " ['I', 'I'],\n",
              " ['I'],\n",
              " ['I'],\n",
              " ['I'],\n",
              " ['I'],\n",
              " ['OMG'],\n",
              " ['I'],\n",
              " ['BETTER'],\n",
              " ['I'],\n",
              " ['I'],\n",
              " ['BLAND'],\n",
              " ['I'],\n",
              " ['I'],\n",
              " ['I'],\n",
              " ['I'],\n",
              " ['I'],\n",
              " ['I'],\n",
              " ['I'],\n",
              " ['RUDE', 'INCONSIDERATE', 'MANAGEMENT'],\n",
              " ['I'],\n",
              " ['I'],\n",
              " ['WILL',\n",
              "  'NEVER',\n",
              "  'EVER',\n",
              "  'GO',\n",
              "  'BACK',\n",
              "  'AND',\n",
              "  'HAVE',\n",
              "  'TOLD',\n",
              "  'MANY',\n",
              "  'PEOPLE',\n",
              "  'WHAT',\n",
              "  'HAD',\n",
              "  'HAPPENED'],\n",
              " ['I'],\n",
              " ['I', 'I'],\n",
              " ['I'],\n",
              " ['I'],\n",
              " ['I'],\n",
              " ['I'],\n",
              " ['I', 'I'],\n",
              " ['I', 'I'],\n",
              " ['I'],\n",
              " ['I'],\n",
              " ['TOTAL', 'WASTE', 'OF', 'TIME'],\n",
              " ['I'],\n",
              " ['I'],\n",
              " ['I'],\n",
              " ['I'],\n",
              " ['I'],\n",
              " ['I'],\n",
              " ['I', 'I'],\n",
              " ['I'],\n",
              " ['I'],\n",
              " ['I'],\n",
              " ['I'],\n",
              " ['I'],\n",
              " ['I'],\n",
              " ['I'],\n",
              " ['FS'],\n",
              " ['I'],\n",
              " ['I', 'I'],\n",
              " ['I'],\n",
              " ['I'],\n",
              " ['I'],\n",
              " ['I'],\n",
              " ['I'],\n",
              " ['I'],\n",
              " ['AZ'],\n",
              " ['I', 'I'],\n",
              " ['I'],\n",
              " ['I', 'LOVED'],\n",
              " ['I'],\n",
              " ['I'],\n",
              " ['I'],\n",
              " ['I', 'I'],\n",
              " ['I'],\n",
              " ['CONCLUSION'],\n",
              " ['I'],\n",
              " ['I'],\n",
              " ['I'],\n",
              " ['I'],\n",
              " ['I', 'I'],\n",
              " ['BEST'],\n",
              " ['I'],\n",
              " ['GO', 'NOW'],\n",
              " ['A'],\n",
              " ['I'],\n",
              " ['I'],\n",
              " ['GC'],\n",
              " ['I'],\n",
              " ['I'],\n",
              " ['I', 'I'],\n",
              " ['I', 'I'],\n",
              " ['I'],\n",
              " ['I'],\n",
              " ['I'],\n",
              " ['I'],\n",
              " ['I'],\n",
              " ['AVOID', 'THIS', 'ESTABLISHMENT'],\n",
              " ['I'],\n",
              " ['I'],\n",
              " ['I'],\n",
              " ['A'],\n",
              " ['I'],\n",
              " ['I'],\n",
              " ['AN', 'HOUR'],\n",
              " ['I'],\n",
              " ['I'],\n",
              " ['I'],\n",
              " ['I', 'I'],\n",
              " ['I', 'I'],\n",
              " ['I'],\n",
              " ['NASTY'],\n",
              " ['OMG', 'I', 'I'],\n",
              " ['NO'],\n",
              " ['I'],\n",
              " ['I', 'I', 'BEST'],\n",
              " ['I'],\n",
              " ['I'],\n",
              " ['I'],\n",
              " ['I'],\n",
              " ['THE', 'OWNERS', 'REALLY', 'REALLY'],\n",
              " ['I'],\n",
              " ['I'],\n",
              " ['I'],\n",
              " ['I'],\n",
              " ['I'],\n",
              " ['I'],\n",
              " ['I', 'I'],\n",
              " ['I'],\n",
              " ['I'],\n",
              " ['I'],\n",
              " ['I'],\n",
              " ['PERFECT'],\n",
              " ['SCREAMS', 'LEGIT'],\n",
              " ['I'],\n",
              " ['MGM'],\n",
              " ['I'],\n",
              " ['I'],\n",
              " ['I'],\n",
              " ['A'],\n",
              " ['I'],\n",
              " ['I'],\n",
              " ['I'],\n",
              " ['I', 'I'],\n",
              " ['I'],\n",
              " ['I'],\n",
              " ['I'],\n",
              " ['I'],\n",
              " ['I'],\n",
              " ['I'],\n",
              " ['I'],\n",
              " ['BEST'],\n",
              " ['I'],\n",
              " ['I'],\n",
              " ['T'],\n",
              " ['A', 'FLY', 'A', 'FLY'],\n",
              " ['I'],\n",
              " ['I'],\n",
              " ['I'],\n",
              " ['I'],\n",
              " ['I'],\n",
              " ['I'],\n",
              " ['I', 'I'],\n",
              " ['I'],\n",
              " ['I'],\n",
              " ['I'],\n",
              " ['I'],\n",
              " ['FANTASTIC'],\n",
              " ['I'],\n",
              " ['I', 'I'],\n",
              " ['I'],\n",
              " ['GREAT'],\n",
              " ['OK'],\n",
              " ['I'],\n",
              " ['I'],\n",
              " ['WAY'],\n",
              " ['I'],\n",
              " ['I'],\n",
              " ['MUST', 'HAVE'],\n",
              " ['I'],\n",
              " ['I'],\n",
              " ['I'],\n",
              " ['I'],\n",
              " ['I'],\n",
              " ['I'],\n",
              " ['OK'],\n",
              " ['I', 'I', 'I'],\n",
              " ['I'],\n",
              " ['OVERPRICED'],\n",
              " ['I'],\n",
              " ['I'],\n",
              " ['I'],\n",
              " ['I'],\n",
              " ['I'],\n",
              " ['I', 'I'],\n",
              " ['I', 'I'],\n",
              " ['I', 'I'],\n",
              " ['I'],\n",
              " ['I', 'I'],\n",
              " ['I'],\n",
              " ['I'],\n",
              " ['I'],\n",
              " ['I'],\n",
              " ['I'],\n",
              " ['I'],\n",
              " ['I'],\n",
              " ['I'],\n",
              " ['I'],\n",
              " ['I'],\n",
              " ['I', 'BARE', 'HANDS'],\n",
              " ['I'],\n",
              " ['I'],\n",
              " ['I', 'I'],\n",
              " ['I'],\n",
              " ['I'],\n",
              " ['I'],\n",
              " ['I'],\n",
              " ['I', 'I'],\n",
              " ['I'],\n",
              " ['I'],\n",
              " ['I'],\n",
              " ['I'],\n",
              " ['I'],\n",
              " ['WEAK'],\n",
              " ['I'],\n",
              " ['I'],\n",
              " ['I'],\n",
              " ['I'],\n",
              " ['I', 'I'],\n",
              " ['I'],\n",
              " ['I'],\n",
              " ['SHOULD'],\n",
              " ['I'],\n",
              " ['I', 'I'],\n",
              " ['RI'],\n",
              " ['I'],\n",
              " ['I'],\n",
              " ['I'],\n",
              " ['I'],\n",
              " ['I'],\n",
              " ['I'],\n",
              " ['I', 'VERY'],\n",
              " ['I', 'I'],\n",
              " ['I'],\n",
              " ['NOT'],\n",
              " ['I'],\n",
              " ['I'],\n",
              " ['I', 'I'],\n",
              " ['I', 'I', 'I'],\n",
              " ['I', 'I'],\n",
              " ['I'],\n",
              " ['I'],\n",
              " ['I', 'I'],\n",
              " ['I'],\n",
              " ['I'],\n",
              " ['I', 'I'],\n",
              " ['I'],\n",
              " ['A'],\n",
              " ['I', 'I'],\n",
              " ['I'],\n",
              " ['I'],\n",
              " ['I'],\n",
              " ['I']]"
            ]
          },
          "metadata": {},
          "execution_count": 177
        }
      ]
    },
    {
      "cell_type": "markdown",
      "source": [
        "*   **Pregunta 4.**  \n",
        "\n",
        "Busca e imprime los comentarios en donde todos los caracteres alfabéticos (letras) están en mayúsculas.\n",
        "\n",
        "Cada coincidencia encontrada debe ser todo el comentario/enunciado.\n",
        "\n",
        "Indica cuántos resultados obtuviste.\n"
      ],
      "metadata": {
        "id": "GX8eYyDoMZma"
      }
    },
    {
      "cell_type": "code",
      "source": [],
      "metadata": {
        "id": "K8VuZxvTMYj6"
      },
      "execution_count": null,
      "outputs": []
    },
    {
      "cell_type": "code",
      "source": [],
      "metadata": {
        "id": "PmKgX7sCMcDx"
      },
      "execution_count": null,
      "outputs": []
    },
    {
      "cell_type": "markdown",
      "source": [
        "*   **Pregunta 5.**  \n",
        "\n",
        "Busca e imprime todas las palabras que tengan una vocal acentuada, del tipo á, é, í, ó, ú.\n",
        "\n",
        "Indica cuántos resultados obtuviste."
      ],
      "metadata": {
        "id": "a1i6qv7-McmU"
      }
    },
    {
      "cell_type": "code",
      "source": [],
      "metadata": {
        "id": "nZZ5zKUOMeGD"
      },
      "execution_count": null,
      "outputs": []
    },
    {
      "cell_type": "code",
      "source": [],
      "metadata": {
        "id": "l1mFvUEZMe8s"
      },
      "execution_count": null,
      "outputs": []
    },
    {
      "cell_type": "markdown",
      "source": [
        "*   **Pregunta 6.**  \n",
        "\n",
        "Busca e imprime todas las cantidades numéricas monetarias, enteras o con decimales, que inician con el símbolo $\\$$.\n",
        "\n",
        "Indica cuántos resultados obtuviste."
      ],
      "metadata": {
        "id": "ZmPiAI82Mfb3"
      }
    },
    {
      "cell_type": "code",
      "source": [],
      "metadata": {
        "id": "6vhe9-Y-MhL9"
      },
      "execution_count": null,
      "outputs": []
    },
    {
      "cell_type": "code",
      "source": [],
      "metadata": {
        "id": "_t0a5xWDMhQ5"
      },
      "execution_count": null,
      "outputs": []
    },
    {
      "cell_type": "markdown",
      "source": [
        "*   **Pregunta 7.**  \n",
        "\n",
        "Busca e imprime todas las palabras que sean variantes de la palabra \"love\", sin importar si incluyen mayúsculas o minúsculas, o la manera en que esté conjugada o alguna otra variación que se haga con dicha palabra.\n",
        "\n",
        "Indica cuántos resultados obtuviste."
      ],
      "metadata": {
        "id": "2j-HpvhwMhq2"
      }
    },
    {
      "cell_type": "code",
      "source": [],
      "metadata": {
        "id": "kqqyRChVMjol"
      },
      "execution_count": null,
      "outputs": []
    },
    {
      "cell_type": "code",
      "source": [],
      "metadata": {
        "id": "UXd0VQluMj_x"
      },
      "execution_count": null,
      "outputs": []
    },
    {
      "cell_type": "markdown",
      "source": [
        "*   **Pregunta 8.**  \n",
        "\n",
        "Busca e imprime todas las palabras, variantes de \"so\" y \"good\", que tengan dos o más \"o\" en \"so\" y 3 o más \"o\" en good.\n",
        "\n",
        "Indica cuántas encontraste.\n"
      ],
      "metadata": {
        "id": "Ctb-NTY3MkYG"
      }
    },
    {
      "cell_type": "code",
      "source": [],
      "metadata": {
        "id": "A8Nf3B_cMlqg"
      },
      "execution_count": null,
      "outputs": []
    },
    {
      "cell_type": "code",
      "source": [],
      "metadata": {
        "id": "svS4-vvPMl6f"
      },
      "execution_count": null,
      "outputs": []
    },
    {
      "cell_type": "markdown",
      "source": [
        "*   **Pregunta 9.**  \n",
        "\n",
        "Busca e imprime todas las palabras que tengan una longitud mayor estrictamente a 10 caracteres alfabéticos.\n",
        "\n",
        "No se consideran los signos de puntuación o caracteres especiales en la longitud de estas cadenas, solo caracteres alfabéticos en mayúsculas o minúsculas.\n",
        "\n",
        "Indica la cantidad de palabras encontradas.\n"
      ],
      "metadata": {
        "id": "hkak1opjMmlk"
      }
    },
    {
      "cell_type": "code",
      "source": [],
      "metadata": {
        "id": "PYxdp3uhMoD0"
      },
      "execution_count": null,
      "outputs": []
    },
    {
      "cell_type": "code",
      "source": [],
      "metadata": {
        "id": "BR7e2F4FMof-"
      },
      "execution_count": null,
      "outputs": []
    },
    {
      "cell_type": "markdown",
      "source": [
        "*   **Pregunta 10.**  \n",
        "\n",
        "Busca e imprime todas las palabras que inician con una letra mayúscula y terminan con una minúscula, pero que además no sea la primera palabra del comentario/string.\n",
        "\n",
        "Indica la cantidad de resultados obtenidos."
      ],
      "metadata": {
        "id": "ApjTNzSxMpDc"
      }
    },
    {
      "cell_type": "code",
      "source": [],
      "metadata": {
        "id": "Vb0ndRGAMqdL"
      },
      "execution_count": null,
      "outputs": []
    },
    {
      "cell_type": "code",
      "source": [],
      "metadata": {
        "id": "dLPTRPnTMqqx"
      },
      "execution_count": null,
      "outputs": []
    },
    {
      "cell_type": "markdown",
      "source": [
        "*   **Pregunta 11.**  \n",
        "\n",
        "Busca e imprime la secuencia de dos o más palabras que están separadas por un guion, \"-\", sin que tengan espacios en blanco entre ellas.\n",
        "\n",
        "Por ejemplo \"Go-Kart\" sería válido, pero \"Go  -Kart\" o \"Go  -  Kart\" no lo serían.\n",
        "\n",
        "Indica la cantidad de resultados obtenidos."
      ],
      "metadata": {
        "id": "u7nfm4KhMrNW"
      }
    },
    {
      "cell_type": "code",
      "source": [],
      "metadata": {
        "id": "OwU-a7eGMsub"
      },
      "execution_count": null,
      "outputs": []
    },
    {
      "cell_type": "code",
      "source": [],
      "metadata": {
        "id": "SgzIL74ZMtGw"
      },
      "execution_count": null,
      "outputs": []
    },
    {
      "cell_type": "markdown",
      "source": [
        "*   **Pregunta 12.**  \n",
        "\n",
        "Busca e imprime todas las palabras que terminan en \"ing\" o \"ed\".\n",
        "\n",
        "Indica la cantidad de palabras que encontraste de cada una."
      ],
      "metadata": {
        "id": "DEIgl79HMthr"
      }
    },
    {
      "cell_type": "code",
      "source": [],
      "metadata": {
        "id": "I4TSofBMMv9y"
      },
      "execution_count": null,
      "outputs": []
    },
    {
      "cell_type": "code",
      "source": [],
      "metadata": {
        "id": "AhGq6De2Mvyh"
      },
      "execution_count": null,
      "outputs": []
    },
    {
      "cell_type": "markdown",
      "source": [
        "#**Parte 3. Proceso de limpieza.**"
      ],
      "metadata": {
        "id": "70StdqAZa9E9"
      }
    },
    {
      "cell_type": "markdown",
      "source": [
        "*   **Pregunta 13.**  \n",
        "\n",
        "Ahora realiza un proceso de limpieza del corpus que incluya los siguientes procesos:\n",
        "\n",
        "*   Solo se deben considerar caracteres alfabéticos. Es decir, se eliminan todos los signos de puntuación y caracteres especiales.\n",
        "*   Todos los caracteres alfabéticos se transforman a minúsculas.\n",
        "*   Se deben eliminar todos los espacios en blanco adicionales que se puedan encontrar en cada comentario.\n",
        "\n",
        "Al finalizar dicho proceso de limpieza, imprime el resultado de los primeros 10 comentarios resultantes.\n",
        "   \n",
        "\n",
        "\n"
      ],
      "metadata": {
        "id": "xaDUFXHrMvX2"
      }
    },
    {
      "cell_type": "code",
      "source": [],
      "metadata": {
        "id": "K3kQzPOPMx0w"
      },
      "execution_count": null,
      "outputs": []
    },
    {
      "cell_type": "code",
      "source": [],
      "metadata": {
        "id": "mYEDlHSFMyJN"
      },
      "execution_count": null,
      "outputs": []
    },
    {
      "cell_type": "markdown",
      "source": [
        "*   **Pregunta 14.**  \n",
        "\n",
        "Con el resultado de la limpieza obtenido en la pregunta anterior, realiza ahora un proceso de tokenización por palabras del corpus.\n",
        "\n",
        "Es decir, al final de este proceso de tokenización, debes tener como resultado una lista de listas, donde cada comentario estará tokenizado por palabras.\n",
        "\n",
        "Al terminar calcula el total de tokens obtenido en todo el corpus."
      ],
      "metadata": {
        "id": "WZwEhg2lUSAX"
      }
    },
    {
      "cell_type": "code",
      "source": [],
      "metadata": {
        "id": "kbAL9-v0V-jx"
      },
      "execution_count": null,
      "outputs": []
    },
    {
      "cell_type": "code",
      "source": [],
      "metadata": {
        "id": "DZs_etmiV-fd"
      },
      "execution_count": null,
      "outputs": []
    },
    {
      "cell_type": "markdown",
      "source": [
        "*   **Pregunta 15.**  \n",
        "\n",
        "Finalmente, en este ejercicio definiremos nuestro conjunto de palabras \"stopwords\", las cuales deberás eliminar de todo el corpus.\n",
        "\n",
        "Recuerda que ejemplos de stopwords son artículos, adverbios, conectivos, etcétera, que tienen frecuencias de aparición muy altas en cualquier documento, pero que no brindan mucho significado en cuanto al significado de un enunciado.\n",
        "\n",
        "Con base a la lista de stopwords que se te proporciona, realiza un proceso de limpieza eliminando todas estas palabras del corpus obtenido en el ejercicio anterior.\n",
        "\n",
        "Obtener cuántos tokens/palabras quedan finalmente en todo el corpus.\n",
        "\n",
        "Obtener cuántos de estos tokens/palabras son diferentes, es decir, cuántos tokens únicos tendrá lo que llamaremos más adelante nuestro vocabulario."
      ],
      "metadata": {
        "id": "EFeu0OJ7WDPD"
      }
    },
    {
      "cell_type": "code",
      "source": [
        "# Considera la siguiente lista como tu conjunto de stopwords:\n",
        "mis_stopwords = ['i', 'me', 'my', 'myself', 'we', 'our', 'ours', 'ourselves', 'you', 'your', 'yours', 'he', 'him', 'his', 'himself', 'she', 'her', 'hers', 'herself', 'it', 'its', 'itself', 'they', 'them', 'their', 'theirs', 'themselves', 'what', 'which', 'who', 'whom', 'this', 'that', 'these', 'those', 'am', 'is', 'are', 'was', 'were', 'be', 'been', 'being', 'have', 'has', 'had', 'having', 'do', 'does', 'did', 'doing', 'a', 'an', 'the', 'and', 'but', 'if', 'or', 'because', 'as', 'until', 'while', 'of', 'at', 'by', 'for', 'with', 'about', 'against', 'between', 'into', 'through', 'during', 'before', 'after', 'above', 'below', 'to', 'from', 'up', 'down', 'in', 'out', 'on', 'over', 'under', 'again', 'further', 'then', 'once', 'here', 'there', 'when', 'where', 'why', 'how', 'all', 'any', 'both', 'each', 'few', 'more', 'most', 'other', 'some', 'such', 'only', 'own', 'same', 'so', 'than', 'too', 'very', 's', 't', 'can', 'will', 'just', 'should', 'now', 'll']"
      ],
      "metadata": {
        "id": "6FP4FF3KXGxm"
      },
      "execution_count": null,
      "outputs": []
    },
    {
      "cell_type": "code",
      "source": [],
      "metadata": {
        "id": "CD8yjyq1ZrwY"
      },
      "execution_count": null,
      "outputs": []
    },
    {
      "cell_type": "code",
      "source": [],
      "metadata": {
        "id": "4ZPi5prKZro5"
      },
      "execution_count": null,
      "outputs": []
    },
    {
      "cell_type": "markdown",
      "source": [
        "*   **Comentarios**\n",
        "\n",
        "Incluye finalmente tus comentarios de la actividad."
      ],
      "metadata": {
        "id": "NDbKkuxRbLoX"
      }
    },
    {
      "cell_type": "markdown",
      "source": [
        "<< incluye aquí tus comentarios >>"
      ],
      "metadata": {
        "id": "o7fzbvqVbUGr"
      }
    },
    {
      "cell_type": "markdown",
      "source": [
        "##**Fin de la Actividad de la semana 2.**"
      ],
      "metadata": {
        "id": "PHaKw_6Ldbaf"
      }
    }
  ]
}